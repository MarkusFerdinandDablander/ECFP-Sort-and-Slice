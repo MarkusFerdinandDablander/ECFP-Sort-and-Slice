{
 "cells": [
  {
   "cell_type": "markdown",
   "id": "ff458476-9344-427b-8dcd-1182542f400a",
   "metadata": {
    "jp-MarkdownHeadingCollapsed": true,
    "tags": []
   },
   "source": [
    "# Import Packages"
   ]
  },
  {
   "cell_type": "code",
   "execution_count": 1,
   "id": "e65e1126-d038-4d9a-a124-18e53549d20a",
   "metadata": {},
   "outputs": [
    {
     "name": "stdout",
     "output_type": "stream",
     "text": [
      "Pytorch version =  1.10.2+cu113\n",
      "CUDA version =  11.3\n",
      "CUDA available =  False\n",
      "Random Pytorch test tensor =  tensor([0.5070])\n"
     ]
    }
   ],
   "source": [
    "# import general packages\n",
    "import numpy as np\n",
    "import pandas as pd\n",
    "import matplotlib.pyplot as plt\n",
    "import warnings\n",
    "warnings.filterwarnings(\"ignore\")\n",
    "\n",
    "# import custom code written for this project\n",
    "from modules import *\n",
    "\n",
    "# import RDKit\n",
    "from rdkit import Chem\n",
    "\n",
    "# import and check funtionality of pytorch\n",
    "import torch\n",
    "print(\"Pytorch version = \", torch.__version__)\n",
    "print(\"CUDA version = \", torch.version.cuda)\n",
    "print(\"CUDA available = \", torch.cuda.is_available())\n",
    "print(\"Random Pytorch test tensor = \", torch.rand(1))"
   ]
  },
  {
   "cell_type": "markdown",
   "id": "36423895-ee0e-4d85-98cd-46e9b815ea39",
   "metadata": {
    "id": "PqtoXSSPnJvy",
    "jp-MarkdownHeadingCollapsed": true,
    "tags": []
   },
   "source": [
    "# Load and Prepare Data"
   ]
  },
  {
   "cell_type": "code",
   "execution_count": 2,
   "id": "dfce9979-a5b6-465c-825d-f7fe5ebdb319",
   "metadata": {},
   "outputs": [],
   "source": [
    "# initialise dictionary used to store experimental settings, after dictionary is initialised, choose one of the five data sets below to proceed\n",
    "\n",
    "settings_dict = {}"
   ]
  },
  {
   "cell_type": "code",
   "execution_count": 3,
   "id": "e3f943b6-2ba9-4241-87a9-302a368b8850",
   "metadata": {},
   "outputs": [],
   "source": [
    "# LIT-PCBA Estrogen Receptor Alpha Antagonism\n",
    "\n",
    "settings_dict[\"dataset_name\"] = \"lit_pcba_esr_ant\"\n",
    "settings_dict[\"task_type\"] = \"classification\"\n",
    "settings_dict[\"prop_name\"] = \"Activity\""
   ]
  },
  {
   "cell_type": "code",
   "execution_count": 3,
   "id": "0c5fe7fe-ca26-43eb-8fc2-98dd7234a76c",
   "metadata": {},
   "outputs": [],
   "source": [
    "# MoleculeNet Lipophilicity\n",
    "\n",
    "settings_dict[\"dataset_name\"] = \"moleculenet_lipophilicity\"\n",
    "settings_dict[\"task_type\"] = \"regression\"\n",
    "settings_dict[\"prop_name\"] = \"exp\""
   ]
  },
  {
   "cell_type": "code",
   "execution_count": 3,
   "id": "6542da60-e894-4009-a503-ae5459a8bf7b",
   "metadata": {},
   "outputs": [],
   "source": [
    "# AqSolDB solubility\n",
    "\n",
    "settings_dict[\"dataset_name\"] = \"aqsoldb_solubility\"\n",
    "settings_dict[\"task_type\"] = \"regression\"\n",
    "settings_dict[\"prop_name\"] = \"Solubility\""
   ]
  },
  {
   "cell_type": "code",
   "execution_count": 3,
   "id": "9797259e-fc95-401c-abee-6850995f0d70",
   "metadata": {},
   "outputs": [],
   "source": [
    "# PostEra SARS-CoV-2 Mpro inhibition\n",
    "\n",
    "settings_dict[\"dataset_name\"] = \"postera_sars_cov_2_mpro\"\n",
    "settings_dict[\"task_type\"] = \"regression\"\n",
    "settings_dict[\"prop_name\"] = \"f_avg_IC50\""
   ]
  },
  {
   "cell_type": "code",
   "execution_count": 3,
   "id": "533110dc-37a7-4619-8e24-01afae28b08a",
   "metadata": {},
   "outputs": [],
   "source": [
    "# Ames mutagenicity\n",
    "\n",
    "settings_dict[\"dataset_name\"] = \"ames_mutagenicity\"\n",
    "settings_dict[\"task_type\"] = \"classification\"\n",
    "settings_dict[\"prop_name\"] = \"Activity\""
   ]
  },
  {
   "cell_type": "code",
   "execution_count": 4,
   "id": "cc9109bb-1e35-4c14-8b74-ae38ee5eba3b",
   "metadata": {},
   "outputs": [
    {
     "data": {
      "text/html": [
       "<div>\n",
       "<style scoped>\n",
       "    .dataframe tbody tr th:only-of-type {\n",
       "        vertical-align: middle;\n",
       "    }\n",
       "\n",
       "    .dataframe tbody tr th {\n",
       "        vertical-align: top;\n",
       "    }\n",
       "\n",
       "    .dataframe thead th {\n",
       "        text-align: right;\n",
       "    }\n",
       "</style>\n",
       "<table border=\"1\" class=\"dataframe\">\n",
       "  <thead>\n",
       "    <tr style=\"text-align: right;\">\n",
       "      <th></th>\n",
       "      <th>SMILES</th>\n",
       "      <th>exp</th>\n",
       "    </tr>\n",
       "  </thead>\n",
       "  <tbody>\n",
       "    <tr>\n",
       "      <th>0</th>\n",
       "      <td>Cn1c(CN2CCN(c3ccc(Cl)cc3)CC2)nc2ccccc21</td>\n",
       "      <td>3.54</td>\n",
       "    </tr>\n",
       "    <tr>\n",
       "      <th>1</th>\n",
       "      <td>COc1cc(OC)c(S(=O)(=O)N2c3ccccc3CCC2C)cc1NC(=O)...</td>\n",
       "      <td>-1.18</td>\n",
       "    </tr>\n",
       "    <tr>\n",
       "      <th>2</th>\n",
       "      <td>COC(=O)[C@H](c1ccccc1Cl)N1CCc2c(ccs2)C1</td>\n",
       "      <td>3.69</td>\n",
       "    </tr>\n",
       "    <tr>\n",
       "      <th>3</th>\n",
       "      <td>O=C(NC1Cc2ccccc2N(C[C@@H](O)CO)C1=O)c1cc2c([nH...</td>\n",
       "      <td>3.37</td>\n",
       "    </tr>\n",
       "    <tr>\n",
       "      <th>4</th>\n",
       "      <td>Cc1cccc(C[C@H](NC(=O)c2cc(C(C)(C)C)nn2C)C(=O)N...</td>\n",
       "      <td>3.10</td>\n",
       "    </tr>\n",
       "    <tr>\n",
       "      <th>...</th>\n",
       "      <td>...</td>\n",
       "      <td>...</td>\n",
       "    </tr>\n",
       "    <tr>\n",
       "      <th>4195</th>\n",
       "      <td>O=C(Nc1ccc(CCO)cc1)c1cc2cc(Cl)ccc2[nH]1</td>\n",
       "      <td>3.85</td>\n",
       "    </tr>\n",
       "    <tr>\n",
       "      <th>4196</th>\n",
       "      <td>CCN(C(=O)Cc1ccc(S(C)(=O)=O)cc1)C1CCN(CCC(c2ccc...</td>\n",
       "      <td>3.21</td>\n",
       "    </tr>\n",
       "    <tr>\n",
       "      <th>4197</th>\n",
       "      <td>COc1cccc2c1cn[nH]2</td>\n",
       "      <td>2.10</td>\n",
       "    </tr>\n",
       "    <tr>\n",
       "      <th>4198</th>\n",
       "      <td>O=C(NCC1CCCCC1)c1c2cccnc2ccc1Cl</td>\n",
       "      <td>2.65</td>\n",
       "    </tr>\n",
       "    <tr>\n",
       "      <th>4199</th>\n",
       "      <td>Cn1c(N)nc(CCc2ccc3ccccc3c2)cc1=O</td>\n",
       "      <td>2.70</td>\n",
       "    </tr>\n",
       "  </tbody>\n",
       "</table>\n",
       "<p>4200 rows × 2 columns</p>\n",
       "</div>"
      ],
      "text/plain": [
       "                                                 SMILES   exp\n",
       "0               Cn1c(CN2CCN(c3ccc(Cl)cc3)CC2)nc2ccccc21  3.54\n",
       "1     COc1cc(OC)c(S(=O)(=O)N2c3ccccc3CCC2C)cc1NC(=O)... -1.18\n",
       "2               COC(=O)[C@H](c1ccccc1Cl)N1CCc2c(ccs2)C1  3.69\n",
       "3     O=C(NC1Cc2ccccc2N(C[C@@H](O)CO)C1=O)c1cc2c([nH...  3.37\n",
       "4     Cc1cccc(C[C@H](NC(=O)c2cc(C(C)(C)C)nn2C)C(=O)N...  3.10\n",
       "...                                                 ...   ...\n",
       "4195            O=C(Nc1ccc(CCO)cc1)c1cc2cc(Cl)ccc2[nH]1  3.85\n",
       "4196  CCN(C(=O)Cc1ccc(S(C)(=O)=O)cc1)C1CCN(CCC(c2ccc...  3.21\n",
       "4197                                 COc1cccc2c1cn[nH]2  2.10\n",
       "4198                    O=C(NCC1CCCCC1)c1c2cccnc2ccc1Cl  2.65\n",
       "4199                   Cn1c(N)nc(CCc2ccc3ccccc3c2)cc1=O  2.70\n",
       "\n",
       "[4200 rows x 2 columns]"
      ]
     },
     "metadata": {},
     "output_type": "display_data"
    }
   ],
   "source": [
    "# load clean data\n",
    "\n",
    "dataframe = pd.read_csv(\"data/\" + settings_dict[\"dataset_name\"] + \"/\" + \"clean_data.csv\", sep = \",\")\n",
    "display(dataframe)"
   ]
  },
  {
   "cell_type": "code",
   "execution_count": 5,
   "id": "b5a6b019-29ab-469d-89b7-f791ac1d538a",
   "metadata": {
    "colab": {
     "base_uri": "https://localhost:8080/",
     "height": 90
    },
    "id": "ZGTsCwA9nJwK",
    "outputId": "d9c43474-c7b7-4622-da65-6ebe36c9c3a1"
   },
   "outputs": [
    {
     "name": "stdout",
     "output_type": "stream",
     "text": [
      "Mean Value (Target) =  2.1863357142857143\n",
      "Standard Deviation (Target) =  1.2028604901336188\n",
      "Maximum Value (Target) =  4.5\n",
      "Minimum Value (Target) =  -1.5 \n",
      "\n",
      "Shape of y =  (4200,)\n",
      "\n",
      " y =  [ 3.54 -1.18  3.69 ...  2.1   2.65  2.7 ]\n"
     ]
    },
    {
     "data": {
      "text/plain": [
       "(array([ 53., 109., 165., 306., 468., 651., 799., 853., 586., 210.]),\n",
       " array([-1.5, -0.9, -0.3,  0.3,  0.9,  1.5,  2.1,  2.7,  3.3,  3.9,  4.5]),\n",
       " <BarContainer object of 10 artists>)"
      ]
     },
     "execution_count": 5,
     "metadata": {},
     "output_type": "execute_result"
    },
    {
     "data": {
      "image/png": "[encoded data removed]",
      "text/plain": [
       "<Figure size 432x288 with 1 Axes>"
      ]
     },
     "metadata": {
      "needs_background": "light"
     },
     "output_type": "display_data"
    }
   ],
   "source": [
    "# construct target variable y (for the SARS-CoV-2 main protease data set, we convert Ki to pKi by taking negative decadic logarithm)\n",
    "\n",
    "if settings_dict[\"dataset_name\"] == \"postera_sars_cov_2_mpro\":\n",
    "    y = -np.log10(dataframe.loc[:, settings_dict[\"prop_name\"]].values.astype(float))\n",
    "else:\n",
    "    y = dataframe.loc[:, settings_dict[\"prop_name\"]].values.astype(float)\n",
    "\n",
    "print(\"Mean Value (Target) = \", np.mean(y))\n",
    "print(\"Standard Deviation (Target) = \", np.std(y))\n",
    "print(\"Maximum Value (Target) = \", np.amax(y))\n",
    "print(\"Minimum Value (Target) = \", np.amin(y), \"\\n\")\n",
    "\n",
    "print(\"Shape of y = \", y.shape)\n",
    "print(\"\\n y = \", y)\n",
    "\n",
    "plt.hist(y)"
   ]
  },
  {
   "cell_type": "code",
   "execution_count": 6,
   "id": "38c868ea-ee13-4031-aba2-88b15b14f565",
   "metadata": {
    "colab": {
     "base_uri": "https://localhost:8080/",
     "height": 222
    },
    "id": "CmgbVIXOnJwL",
    "outputId": "f151bbf0-8894-45c1-bd95-e747bc7c74b5"
   },
   "outputs": [
    {
     "name": "stdout",
     "output_type": "stream",
     "text": [
      "Shape of x_smiles =  (4200,)\n",
      "Cn1c(CN2CCN(c3ccc(Cl)cc3)CC2)nc2ccccc21\n"
     ]
    },
    {
     "data": {
      "image/png": "[encoded data removed]",
      "text/plain": [
       "<rdkit.Chem.rdchem.Mol at 0x7ff09e8b7b20>"
      ]
     },
     "metadata": {},
     "output_type": "display_data"
    }
   ],
   "source": [
    "# extract SMILES strings\n",
    "\n",
    "x_smiles = np.reshape(dataframe[\"SMILES\"].values, (len(dataframe), 1))[:,0]\n",
    "\n",
    "print(\"Shape of x_smiles = \", x_smiles.shape)\n",
    "print(x_smiles[0])\n",
    "display(Chem.MolFromSmiles(x_smiles[0]))"
   ]
  },
  {
   "cell_type": "code",
   "execution_count": 7,
   "id": "554e9792-2bea-4a5a-9f92-8fdbf592e0cb",
   "metadata": {
    "id": "iMep582hnJwL"
   },
   "outputs": [],
   "source": [
    "# create dictionary that maps smiles strings to their target values\n",
    "\n",
    "x_smiles_to_y_dict = dict(list(zip(x_smiles, y)))"
   ]
  },
  {
   "cell_type": "markdown",
   "id": "92d0e354-615a-4838-a6c3-c8a3796af3ee",
   "metadata": {
    "jp-MarkdownHeadingCollapsed": true,
    "tags": []
   },
   "source": [
    "# Prepare Data Split"
   ]
  },
  {
   "cell_type": "code",
   "execution_count": 10,
   "id": "31183d3e-550c-49a0-84b9-d776d32de758",
   "metadata": {},
   "outputs": [],
   "source": [
    "# choose settings for dictionary that contains indices for data splits\n",
    "\n",
    "settings_dict[\"split_type\"] = \"rand\" # choose \"rand\" for random split and \"scaff\" for scaffold split\n",
    "settings_dict[\"split_type_rand_stratified\"] = False # given a random split and a classification problem, choose whether to stratify the split\n",
    "settings_dict[\"k_splits\"] = 2 # choose number of cross validation folds k_splits\n",
    "settings_dict[\"m_reps\"] = 3 # choose number of random seeds m_reps with which the cross validation scheme is repeated\n",
    "settings_dict[\"random_state_cv\"] = 42 # choose random state"
   ]
  },
  {
   "cell_type": "code",
   "execution_count": 11,
   "id": "13b0bc84-39ca-46ea-8495-b88e4871c810",
   "metadata": {},
   "outputs": [],
   "source": [
    "# construct dictionary that contains indices for data splits\n",
    "\n",
    "if settings_dict[\"split_type\"] == \"rand\" and settings_dict[\"split_type_rand_stratified\"] == False:\n",
    "    \n",
    "    data_split_dict = create_data_split_dict_random(x_smiles = x_smiles,\n",
    "                                                    k_splits = settings_dict[\"k_splits\"],\n",
    "                                                    m_reps = settings_dict[\"m_reps\"],\n",
    "                                                    random_state_cv = settings_dict[\"random_state_cv\"])\n",
    "\n",
    "elif settings_dict[\"split_type\"] == \"rand\" and settings_dict[\"split_type_rand_stratified\"] == True:\n",
    "    \n",
    "    data_split_dict = create_data_split_dict_random_strat(x_smiles = x_smiles,\n",
    "                                                          y = y,\n",
    "                                                          k_splits = settings_dict[\"k_splits\"],\n",
    "                                                          m_reps = settings_dict[\"m_reps\"],\n",
    "                                                          random_state_cv = settings_dict[\"random_state_cv\"])\n",
    "    \n",
    "elif settings_dict[\"split_type\"] == \"scaff\":\n",
    "    \n",
    "    data_split_dict = create_data_split_dict_scaffold(x_smiles = x_smiles,\n",
    "                                                      k_splits = settings_dict[\"k_splits\"],\n",
    "                                                      m_reps = settings_dict[\"m_reps\"],\n",
    "                                                      scaffold_func = \"Bemis_Murcko_generic\",\n",
    "                                                      random_state_cv = settings_dict[\"random_state_cv\"])"
   ]
  },
  {
   "cell_type": "markdown",
   "id": "4c806ab6-dc16-437e-bb44-ba8e77ac7bda",
   "metadata": {
    "jp-MarkdownHeadingCollapsed": true,
    "tags": []
   },
   "source": [
    "# Evaluate Models"
   ]
  },
  {
   "cell_type": "code",
   "execution_count": 24,
   "id": "a87960bf-0f58-4e5f-a050-2afd26dec983",
   "metadata": {},
   "outputs": [],
   "source": [
    "# choose ECFP hyperparameters\n",
    "\n",
    "settings_dict[\"ecfp_settings\"] = {\"mol_to_invs_function\": ecfp_invariants, # ecfp_invariants or fcfp_invariants\n",
    "                                  \"radius\": 2, # 0 or 1 or 2 or 3 ...\n",
    "                                  \"pool_method\": \"hashed\", # \"hashed\" or \"sort_and_slice\" or \"filtered\" or \"mim\"\n",
    "                                  \"dimension\": 1024, # 256 or 512 or 1024 or 2048 or 4096 ...\n",
    "                                  \"use_bond_invs\": True, # True or False\n",
    "                                  \"use_chirality\": True, # True or False\n",
    "                                  \"use_counts\": False} # True or False"
   ]
  },
  {
   "cell_type": "code",
   "execution_count": 25,
   "id": "c3854158-59a0-428b-8eda-cc440dd10c7f",
   "metadata": {},
   "outputs": [],
   "source": [
    "# chose ml model: random forest or multilayer perceptron\n",
    "\n",
    "settings_dict[\"ml_model\"] = \"rf\" # \"rf\" or \"mlp\""
   ]
  },
  {
   "cell_type": "code",
   "execution_count": 26,
   "id": "fde71877-345b-4b60-8636-09aa1abb39cb",
   "metadata": {},
   "outputs": [],
   "source": [
    "# choose rf hyperparameters\n",
    "\n",
    "settings_dict[\"rf_settings\"] = {\"n_estimators\" : 100,\n",
    "                                \"max_depth\" : None,\n",
    "                                \"min_samples_leaf\" : 1,\n",
    "                                \"min_samples_split\" : 2,\n",
    "                                \"bootstrap\" : True,\n",
    "                                \"max_features\": \"sqrt\",\n",
    "                                \"random_state\" : 42}\n",
    "\n",
    "if settings_dict[\"task_type\"] == \"regression\":\n",
    "\n",
    "    settings_dict[\"rf_settings\"][\"criterion\"] = \"squared_error\"\n",
    "\n",
    "elif settings_dict[\"task_type\"] == \"classification\":\n",
    "\n",
    "    settings_dict[\"rf_settings\"][\"criterion\"] = \"gini\""
   ]
  },
  {
   "cell_type": "code",
   "execution_count": 27,
   "id": "40d6cc7d-9467-4f20-b996-fdc0703583ae",
   "metadata": {},
   "outputs": [],
   "source": [
    "# choose mlp hyperparameters\n",
    "\n",
    "settings_dict[\"mlp_settings\"] = {\"architecture\" : list(arch(settings_dict[\"ecfp_settings\"][\"dimension\"], 1, 512, 5)),\n",
    "                                \"hidden_activation\" : torch.nn.ReLU(),\n",
    "                                \"use_bias\" : True,\n",
    "                                \"hidden_dropout_rate\" : 0.25,\n",
    "                                \"hidden_batchnorm\" : True,\n",
    "                                \"batch_size\" : 64,\n",
    "                                \"dataloader_shuffle\" : True,\n",
    "                                \"dataloader_drop_last\" : True,\n",
    "                                \"learning_rate\" : 1e-3,\n",
    "                                \"lr_lambda\" : lambda epoch: max(0.98**epoch, 1e-2),\n",
    "                                \"lr_last_epoch\": 0,\n",
    "                                \"weight_decay\" : 0.1,\n",
    "                                \"num_epochs\" : 250,\n",
    "                                \"optimiser\" : torch.optim.AdamW,\n",
    "                                \"print_results_per_epochs\" : None}\n",
    "\n",
    "if settings_dict[\"task_type\"] == \"regression\":\n",
    "\n",
    "    settings_dict[\"mlp_settings\"][\"output_activation\"] = torch.nn.Identity()\n",
    "    settings_dict[\"mlp_settings\"][\"loss_function\"] = torch.nn.MSELoss()\n",
    "    settings_dict[\"mlp_settings\"][\"performance_metrics\"] = \"regression\"\n",
    "\n",
    "elif settings_dict[\"task_type\"] == \"classification\":\n",
    "\n",
    "    settings_dict[\"mlp_settings\"][\"output_activation\"] = torch.nn.Sigmoid()\n",
    "    settings_dict[\"mlp_settings\"][\"loss_function\"] = torch.nn.BCELoss()\n",
    "    settings_dict[\"mlp_settings\"][\"performance_metrics\"] = \"classification\""
   ]
  },
  {
   "cell_type": "code",
   "execution_count": 23,
   "id": "4357dc9f-f91f-4cc2-8b9d-d73d3fdb36fd",
   "metadata": {},
   "outputs": [
    {
     "name": "stdout",
     "output_type": "stream",
     "text": [
      "0 0\n"
     ]
    },
    {
     "data": {
      "text/html": [
       "<div>\n",
       "<style scoped>\n",
       "    .dataframe tbody tr th:only-of-type {\n",
       "        vertical-align: middle;\n",
       "    }\n",
       "\n",
       "    .dataframe tbody tr th {\n",
       "        vertical-align: top;\n",
       "    }\n",
       "\n",
       "    .dataframe thead th {\n",
       "        text-align: right;\n",
       "    }\n",
       "</style>\n",
       "<table border=\"1\" class=\"dataframe\">\n",
       "  <thead>\n",
       "    <tr style=\"text-align: right;\">\n",
       "      <th></th>\n",
       "      <th>MAE</th>\n",
       "      <th>MedAE</th>\n",
       "      <th>RMSE</th>\n",
       "      <th>MaxAE</th>\n",
       "      <th>MSE</th>\n",
       "      <th>PearsonCorr</th>\n",
       "      <th>R2Coeff</th>\n",
       "      <th>Test Cases</th>\n",
       "    </tr>\n",
       "  </thead>\n",
       "  <tbody>\n",
       "    <tr>\n",
       "      <th>Scores:</th>\n",
       "      <td>0.653765</td>\n",
       "      <td>0.523129</td>\n",
       "      <td>0.854687</td>\n",
       "      <td>4.044828</td>\n",
       "      <td>0.73049</td>\n",
       "      <td>0.705891</td>\n",
       "      <td>0.492933</td>\n",
       "      <td>2100.0</td>\n",
       "    </tr>\n",
       "  </tbody>\n",
       "</table>\n",
       "</div>"
      ],
      "text/plain": [
       "              MAE     MedAE      RMSE     MaxAE      MSE  PearsonCorr  \\\n",
       "Scores:  0.653765  0.523129  0.854687  4.044828  0.73049     0.705891   \n",
       "\n",
       "          R2Coeff  Test Cases  \n",
       "Scores:  0.492933      2100.0  "
      ]
     },
     "metadata": {},
     "output_type": "display_data"
    },
    {
     "name": "stdout",
     "output_type": "stream",
     "text": [
      "0 1\n"
     ]
    },
    {
     "data": {
      "text/html": [
       "<div>\n",
       "<style scoped>\n",
       "    .dataframe tbody tr th:only-of-type {\n",
       "        vertical-align: middle;\n",
       "    }\n",
       "\n",
       "    .dataframe tbody tr th {\n",
       "        vertical-align: top;\n",
       "    }\n",
       "\n",
       "    .dataframe thead th {\n",
       "        text-align: right;\n",
       "    }\n",
       "</style>\n",
       "<table border=\"1\" class=\"dataframe\">\n",
       "  <thead>\n",
       "    <tr style=\"text-align: right;\">\n",
       "      <th></th>\n",
       "      <th>MAE</th>\n",
       "      <th>MedAE</th>\n",
       "      <th>RMSE</th>\n",
       "      <th>MaxAE</th>\n",
       "      <th>MSE</th>\n",
       "      <th>PearsonCorr</th>\n",
       "      <th>R2Coeff</th>\n",
       "      <th>Test Cases</th>\n",
       "    </tr>\n",
       "  </thead>\n",
       "  <tbody>\n",
       "    <tr>\n",
       "      <th>Scores:</th>\n",
       "      <td>0.687033</td>\n",
       "      <td>0.521432</td>\n",
       "      <td>0.902324</td>\n",
       "      <td>3.84462</td>\n",
       "      <td>0.814189</td>\n",
       "      <td>0.675537</td>\n",
       "      <td>0.439697</td>\n",
       "      <td>2100.0</td>\n",
       "    </tr>\n",
       "  </tbody>\n",
       "</table>\n",
       "</div>"
      ],
      "text/plain": [
       "              MAE     MedAE      RMSE    MaxAE       MSE  PearsonCorr  \\\n",
       "Scores:  0.687033  0.521432  0.902324  3.84462  0.814189     0.675537   \n",
       "\n",
       "          R2Coeff  Test Cases  \n",
       "Scores:  0.439697      2100.0  "
      ]
     },
     "metadata": {},
     "output_type": "display_data"
    },
    {
     "name": "stdout",
     "output_type": "stream",
     "text": [
      "1 0\n"
     ]
    },
    {
     "data": {
      "text/html": [
       "<div>\n",
       "<style scoped>\n",
       "    .dataframe tbody tr th:only-of-type {\n",
       "        vertical-align: middle;\n",
       "    }\n",
       "\n",
       "    .dataframe tbody tr th {\n",
       "        vertical-align: top;\n",
       "    }\n",
       "\n",
       "    .dataframe thead th {\n",
       "        text-align: right;\n",
       "    }\n",
       "</style>\n",
       "<table border=\"1\" class=\"dataframe\">\n",
       "  <thead>\n",
       "    <tr style=\"text-align: right;\">\n",
       "      <th></th>\n",
       "      <th>MAE</th>\n",
       "      <th>MedAE</th>\n",
       "      <th>RMSE</th>\n",
       "      <th>MaxAE</th>\n",
       "      <th>MSE</th>\n",
       "      <th>PearsonCorr</th>\n",
       "      <th>R2Coeff</th>\n",
       "      <th>Test Cases</th>\n",
       "    </tr>\n",
       "  </thead>\n",
       "  <tbody>\n",
       "    <tr>\n",
       "      <th>Scores:</th>\n",
       "      <td>0.669888</td>\n",
       "      <td>0.528153</td>\n",
       "      <td>0.878043</td>\n",
       "      <td>3.455221</td>\n",
       "      <td>0.770959</td>\n",
       "      <td>0.682981</td>\n",
       "      <td>0.446005</td>\n",
       "      <td>2100.0</td>\n",
       "    </tr>\n",
       "  </tbody>\n",
       "</table>\n",
       "</div>"
      ],
      "text/plain": [
       "              MAE     MedAE      RMSE     MaxAE       MSE  PearsonCorr  \\\n",
       "Scores:  0.669888  0.528153  0.878043  3.455221  0.770959     0.682981   \n",
       "\n",
       "          R2Coeff  Test Cases  \n",
       "Scores:  0.446005      2100.0  "
      ]
     },
     "metadata": {},
     "output_type": "display_data"
    },
    {
     "name": "stdout",
     "output_type": "stream",
     "text": [
      "1 1\n"
     ]
    },
    {
     "data": {
      "text/html": [
       "<div>\n",
       "<style scoped>\n",
       "    .dataframe tbody tr th:only-of-type {\n",
       "        vertical-align: middle;\n",
       "    }\n",
       "\n",
       "    .dataframe tbody tr th {\n",
       "        vertical-align: top;\n",
       "    }\n",
       "\n",
       "    .dataframe thead th {\n",
       "        text-align: right;\n",
       "    }\n",
       "</style>\n",
       "<table border=\"1\" class=\"dataframe\">\n",
       "  <thead>\n",
       "    <tr style=\"text-align: right;\">\n",
       "      <th></th>\n",
       "      <th>MAE</th>\n",
       "      <th>MedAE</th>\n",
       "      <th>RMSE</th>\n",
       "      <th>MaxAE</th>\n",
       "      <th>MSE</th>\n",
       "      <th>PearsonCorr</th>\n",
       "      <th>R2Coeff</th>\n",
       "      <th>Test Cases</th>\n",
       "    </tr>\n",
       "  </thead>\n",
       "  <tbody>\n",
       "    <tr>\n",
       "      <th>Scores:</th>\n",
       "      <td>0.693249</td>\n",
       "      <td>0.543648</td>\n",
       "      <td>0.904931</td>\n",
       "      <td>3.632326</td>\n",
       "      <td>0.818901</td>\n",
       "      <td>0.691218</td>\n",
       "      <td>0.454555</td>\n",
       "      <td>2100.0</td>\n",
       "    </tr>\n",
       "  </tbody>\n",
       "</table>\n",
       "</div>"
      ],
      "text/plain": [
       "              MAE     MedAE      RMSE     MaxAE       MSE  PearsonCorr  \\\n",
       "Scores:  0.693249  0.543648  0.904931  3.632326  0.818901     0.691218   \n",
       "\n",
       "          R2Coeff  Test Cases  \n",
       "Scores:  0.454555      2100.0  "
      ]
     },
     "metadata": {},
     "output_type": "display_data"
    },
    {
     "name": "stdout",
     "output_type": "stream",
     "text": [
      "2 0\n"
     ]
    },
    {
     "data": {
      "text/html": [
       "<div>\n",
       "<style scoped>\n",
       "    .dataframe tbody tr th:only-of-type {\n",
       "        vertical-align: middle;\n",
       "    }\n",
       "\n",
       "    .dataframe tbody tr th {\n",
       "        vertical-align: top;\n",
       "    }\n",
       "\n",
       "    .dataframe thead th {\n",
       "        text-align: right;\n",
       "    }\n",
       "</style>\n",
       "<table border=\"1\" class=\"dataframe\">\n",
       "  <thead>\n",
       "    <tr style=\"text-align: right;\">\n",
       "      <th></th>\n",
       "      <th>MAE</th>\n",
       "      <th>MedAE</th>\n",
       "      <th>RMSE</th>\n",
       "      <th>MaxAE</th>\n",
       "      <th>MSE</th>\n",
       "      <th>PearsonCorr</th>\n",
       "      <th>R2Coeff</th>\n",
       "      <th>Test Cases</th>\n",
       "    </tr>\n",
       "  </thead>\n",
       "  <tbody>\n",
       "    <tr>\n",
       "      <th>Scores:</th>\n",
       "      <td>0.70569</td>\n",
       "      <td>0.55955</td>\n",
       "      <td>0.921409</td>\n",
       "      <td>3.609259</td>\n",
       "      <td>0.848994</td>\n",
       "      <td>0.68775</td>\n",
       "      <td>0.416342</td>\n",
       "      <td>2100.0</td>\n",
       "    </tr>\n",
       "  </tbody>\n",
       "</table>\n",
       "</div>"
      ],
      "text/plain": [
       "             MAE    MedAE      RMSE     MaxAE       MSE  PearsonCorr  \\\n",
       "Scores:  0.70569  0.55955  0.921409  3.609259  0.848994      0.68775   \n",
       "\n",
       "          R2Coeff  Test Cases  \n",
       "Scores:  0.416342      2100.0  "
      ]
     },
     "metadata": {},
     "output_type": "display_data"
    },
    {
     "name": "stdout",
     "output_type": "stream",
     "text": [
      "2 1\n"
     ]
    },
    {
     "data": {
      "text/html": [
       "<div>\n",
       "<style scoped>\n",
       "    .dataframe tbody tr th:only-of-type {\n",
       "        vertical-align: middle;\n",
       "    }\n",
       "\n",
       "    .dataframe tbody tr th {\n",
       "        vertical-align: top;\n",
       "    }\n",
       "\n",
       "    .dataframe thead th {\n",
       "        text-align: right;\n",
       "    }\n",
       "</style>\n",
       "<table border=\"1\" class=\"dataframe\">\n",
       "  <thead>\n",
       "    <tr style=\"text-align: right;\">\n",
       "      <th></th>\n",
       "      <th>MAE</th>\n",
       "      <th>MedAE</th>\n",
       "      <th>RMSE</th>\n",
       "      <th>MaxAE</th>\n",
       "      <th>MSE</th>\n",
       "      <th>PearsonCorr</th>\n",
       "      <th>R2Coeff</th>\n",
       "      <th>Test Cases</th>\n",
       "    </tr>\n",
       "  </thead>\n",
       "  <tbody>\n",
       "    <tr>\n",
       "      <th>Scores:</th>\n",
       "      <td>0.668459</td>\n",
       "      <td>0.51714</td>\n",
       "      <td>0.889678</td>\n",
       "      <td>3.691158</td>\n",
       "      <td>0.791528</td>\n",
       "      <td>0.686703</td>\n",
       "      <td>0.449994</td>\n",
       "      <td>2100.0</td>\n",
       "    </tr>\n",
       "  </tbody>\n",
       "</table>\n",
       "</div>"
      ],
      "text/plain": [
       "              MAE    MedAE      RMSE     MaxAE       MSE  PearsonCorr  \\\n",
       "Scores:  0.668459  0.51714  0.889678  3.691158  0.791528     0.686703   \n",
       "\n",
       "          R2Coeff  Test Cases  \n",
       "Scores:  0.449994      2100.0  "
      ]
     },
     "metadata": {},
     "output_type": "display_data"
    },
    {
     "data": {
      "text/html": [
       "<div>\n",
       "<style scoped>\n",
       "    .dataframe tbody tr th:only-of-type {\n",
       "        vertical-align: middle;\n",
       "    }\n",
       "\n",
       "    .dataframe tbody tr th {\n",
       "        vertical-align: top;\n",
       "    }\n",
       "\n",
       "    .dataframe thead th {\n",
       "        text-align: right;\n",
       "    }\n",
       "</style>\n",
       "<table border=\"1\" class=\"dataframe\">\n",
       "  <thead>\n",
       "    <tr style=\"text-align: right;\">\n",
       "      <th></th>\n",
       "      <th>MAE</th>\n",
       "      <th>MedAE</th>\n",
       "      <th>RMSE</th>\n",
       "      <th>MaxAE</th>\n",
       "      <th>MSE</th>\n",
       "      <th>PearsonCorr</th>\n",
       "      <th>R2Coeff</th>\n",
       "      <th>Test Cases</th>\n",
       "    </tr>\n",
       "  </thead>\n",
       "  <tbody>\n",
       "    <tr>\n",
       "      <th>(0, 0)</th>\n",
       "      <td>0.653765</td>\n",
       "      <td>0.523129</td>\n",
       "      <td>0.854687</td>\n",
       "      <td>4.044828</td>\n",
       "      <td>0.730490</td>\n",
       "      <td>0.705891</td>\n",
       "      <td>0.492933</td>\n",
       "      <td>2100.0</td>\n",
       "    </tr>\n",
       "    <tr>\n",
       "      <th>(0, 1)</th>\n",
       "      <td>0.687033</td>\n",
       "      <td>0.521432</td>\n",
       "      <td>0.902324</td>\n",
       "      <td>3.844620</td>\n",
       "      <td>0.814189</td>\n",
       "      <td>0.675537</td>\n",
       "      <td>0.439697</td>\n",
       "      <td>2100.0</td>\n",
       "    </tr>\n",
       "    <tr>\n",
       "      <th>(1, 0)</th>\n",
       "      <td>0.669888</td>\n",
       "      <td>0.528153</td>\n",
       "      <td>0.878043</td>\n",
       "      <td>3.455221</td>\n",
       "      <td>0.770959</td>\n",
       "      <td>0.682981</td>\n",
       "      <td>0.446005</td>\n",
       "      <td>2100.0</td>\n",
       "    </tr>\n",
       "    <tr>\n",
       "      <th>(1, 1)</th>\n",
       "      <td>0.693249</td>\n",
       "      <td>0.543648</td>\n",
       "      <td>0.904931</td>\n",
       "      <td>3.632326</td>\n",
       "      <td>0.818901</td>\n",
       "      <td>0.691218</td>\n",
       "      <td>0.454555</td>\n",
       "      <td>2100.0</td>\n",
       "    </tr>\n",
       "    <tr>\n",
       "      <th>(2, 0)</th>\n",
       "      <td>0.705690</td>\n",
       "      <td>0.559550</td>\n",
       "      <td>0.921409</td>\n",
       "      <td>3.609259</td>\n",
       "      <td>0.848994</td>\n",
       "      <td>0.687750</td>\n",
       "      <td>0.416342</td>\n",
       "      <td>2100.0</td>\n",
       "    </tr>\n",
       "    <tr>\n",
       "      <th>(2, 1)</th>\n",
       "      <td>0.668459</td>\n",
       "      <td>0.517140</td>\n",
       "      <td>0.889678</td>\n",
       "      <td>3.691158</td>\n",
       "      <td>0.791528</td>\n",
       "      <td>0.686703</td>\n",
       "      <td>0.449994</td>\n",
       "      <td>2100.0</td>\n",
       "    </tr>\n",
       "    <tr>\n",
       "      <th>mean</th>\n",
       "      <td>0.679681</td>\n",
       "      <td>0.532175</td>\n",
       "      <td>0.891845</td>\n",
       "      <td>3.712902</td>\n",
       "      <td>0.795843</td>\n",
       "      <td>0.688347</td>\n",
       "      <td>0.449921</td>\n",
       "      <td>2100.0</td>\n",
       "    </tr>\n",
       "    <tr>\n",
       "      <th>std</th>\n",
       "      <td>0.017359</td>\n",
       "      <td>0.014835</td>\n",
       "      <td>0.021335</td>\n",
       "      <td>0.187808</td>\n",
       "      <td>0.037864</td>\n",
       "      <td>0.009238</td>\n",
       "      <td>0.022799</td>\n",
       "      <td>0.0</td>\n",
       "    </tr>\n",
       "  </tbody>\n",
       "</table>\n",
       "</div>"
      ],
      "text/plain": [
       "             MAE     MedAE      RMSE     MaxAE       MSE  PearsonCorr  \\\n",
       "(0, 0)  0.653765  0.523129  0.854687  4.044828  0.730490     0.705891   \n",
       "(0, 1)  0.687033  0.521432  0.902324  3.844620  0.814189     0.675537   \n",
       "(1, 0)  0.669888  0.528153  0.878043  3.455221  0.770959     0.682981   \n",
       "(1, 1)  0.693249  0.543648  0.904931  3.632326  0.818901     0.691218   \n",
       "(2, 0)  0.705690  0.559550  0.921409  3.609259  0.848994     0.687750   \n",
       "(2, 1)  0.668459  0.517140  0.889678  3.691158  0.791528     0.686703   \n",
       "mean    0.679681  0.532175  0.891845  3.712902  0.795843     0.688347   \n",
       "std     0.017359  0.014835  0.021335  0.187808  0.037864     0.009238   \n",
       "\n",
       "         R2Coeff  Test Cases  \n",
       "(0, 0)  0.492933      2100.0  \n",
       "(0, 1)  0.439697      2100.0  \n",
       "(1, 0)  0.446005      2100.0  \n",
       "(1, 1)  0.454555      2100.0  \n",
       "(2, 0)  0.416342      2100.0  \n",
       "(2, 1)  0.449994      2100.0  \n",
       "mean    0.449921      2100.0  \n",
       "std     0.022799         0.0  "
      ]
     },
     "metadata": {},
     "output_type": "display_data"
    },
    {
     "name": "stdout",
     "output_type": "stream",
     "text": [
      "CPU times: user 9min 7s, sys: 1.79 s, total: 9min 9s\n",
      "Wall time: 1min 32s\n"
     ]
    },
    {
     "data": {
      "image/png": "[encoded data removed]",
      "text/plain": [
       "<Figure size 432x288 with 1 Axes>"
      ]
     },
     "metadata": {
      "needs_background": "light"
     },
     "output_type": "display_data"
    }
   ],
   "source": [
    "%%time\n",
    "# run model and save results\n",
    "\n",
    "# dictionary to save results over the k_splits-fold cross validation with m_reps random seeds\n",
    "scores_dict = {}\n",
    "\n",
    "# ind_train and ind_test contain the indices for the data split corresponding to the k-th fold with the m-th random seed\n",
    "for ((m, k), (ind_train, ind_test)) in data_split_dict.items():\n",
    "    \n",
    "    # create ecfp featuriser\n",
    "    featuriser = create_ecfp_featuriser(ecfp_settings = settings_dict[\"ecfp_settings\"], \n",
    "                                        x_smiles_train = x_smiles[ind_train], \n",
    "                                        y_train = y[ind_train], \n",
    "                                        discretise_y = True if settings_dict[\"task_type\"] == \"regression\" else False,\n",
    "                                        base = 2, \n",
    "                                        random_state = 42)\n",
    "    \n",
    "    # create ecfp-based feature matrices\n",
    "    X_train = featuriser(x_smiles[ind_train])\n",
    "    X_test = featuriser(x_smiles[ind_test])\n",
    "\n",
    "    # create ml model + train ml model + make predictions on test set\n",
    "    if settings_dict[\"ml_model\"] == \"rf\":\n",
    "        \n",
    "        rf_model = create_rf_model(settings_dict[\"rf_settings\"], settings_dict[\"task_type\"])\n",
    "        rf_model.fit(X_train, y[ind_train])\n",
    "        y_test_pred = make_rf_prediction(rf_model, X_test, settings_dict[\"task_type\"])\n",
    "        \n",
    "    if settings_dict[\"ml_model\"] == \"mlp\":\n",
    "        \n",
    "        mlp_model = create_mlp_model(settings_dict[\"mlp_settings\"])\n",
    "        (loss_curve_train, loss_curve_test) = train_mlp_model(mlp_model, settings_dict[\"mlp_settings\"], X_train, y[ind_train], X_test, y[ind_test])\n",
    "        plt.plot(loss_curve_train)\n",
    "        plt.plot(loss_curve_test)\n",
    "        y_test_pred = make_mlp_prediction(mlp_model, X_test)\n",
    "        \n",
    "    # record scores\n",
    "    print(m, k)\n",
    "    if settings_dict[\"task_type\"] == \"regression\":\n",
    "        scores_dict[(m, k)] = regression_scores(y[ind_test], y_test_pred, display_results = True)\n",
    "    elif settings_dict[\"task_type\"] == \"classification\":\n",
    "        scores_dict[(m, k)] = binary_classification_scores(y[ind_test], y_test_pred, display_results = True)\n",
    "        \n",
    "# summarise, display and save scores for this experiment\n",
    "summarise_display_and_save_results_and_settings(scores_dict, settings_dict, display_results = True)"
   ]
  },
  {
   "cell_type": "code",
   "execution_count": 1,
   "id": "f074e72d-1445-4719-a8cf-cb4cefbd54fc",
   "metadata": {},
   "outputs": [
    {
     "ename": "NameError",
     "evalue": "name 'a' is not defined",
     "output_type": "error",
     "traceback": [
      "\u001b[0;31m---------------------------------------------------------------------------\u001b[0m",
      "\u001b[0;31mNameError\u001b[0m                                 Traceback (most recent call last)",
      "\u001b[0;32m<timed exec>\u001b[0m in \u001b[0;36m<module>\u001b[0;34m\u001b[0m\n",
      "\u001b[0;31mNameError\u001b[0m: name 'a' is not defined"
     ]
    }
   ],
   "source": [
    "%%time\n",
    "# run full battery of experiments for one data set and data splitting type with both rfs and mlps\n",
    "\n",
    "# first clear folder from previous experimental results\n",
    "delete_all_files_in_folder(\"results/\" + settings_dict[\"dataset_name\"] + \"/\" + settings_dict[\"split_type\"] + \"/\")\n",
    "\n",
    "for pool_method in [\"hashed\", \"filtered\", \"mim\", \"sort_and_slice\"]:\n",
    "    for dimension in [512, 1024, 2048, 4096]:\n",
    "        for inv_func in [ecfp_invariants, fcfp_invariants]:\n",
    "            for radius in [1, 2, 3]:\n",
    "\n",
    "                print(\"pool_method = \", pool_method)\n",
    "                print(\"dimension = \", dimension)\n",
    "                print(\"inv_func = \", inv_func)\n",
    "                print(\"radius = \", radius, \"\\n\")\n",
    "\n",
    "                # choose ECFP hyperparameters\n",
    "                settings_dict[\"ecfp_settings\"] = {\"mol_to_invs_function\": inv_func,\n",
    "                                                  \"radius\": radius,\n",
    "                                                  \"pool_method\": pool_method,\n",
    "                                                  \"dimension\": dimension,\n",
    "                                                  \"use_bond_invs\": True,\n",
    "                                                  \"use_chirality\": True,\n",
    "                                                  \"use_counts\": False}\n",
    "\n",
    "                # run rf- and mlp models and save results\n",
    "                scores_dict_rf = {}\n",
    "                scores_dict_mlp = {}\n",
    "\n",
    "                # ind_train and ind_test contain the indices for the data split corresponding to the k-th fold with the m-th random seed\n",
    "                for ((m, k), (ind_train, ind_test)) in data_split_dict.items():\n",
    "                    \n",
    "                    # create ecfp featuriser\n",
    "                    featuriser = create_ecfp_featuriser(ecfp_settings = settings_dict[\"ecfp_settings\"], \n",
    "                                                        x_smiles_train = x_smiles[ind_train], \n",
    "                                                        y_train = y[ind_train], \n",
    "                                                        discretise_y = True if settings_dict[\"task_type\"] == \"regression\" else False,  \n",
    "                                                        base = 2, \n",
    "                                                        random_state = 42)\n",
    "\n",
    "                    # create ecfp-based feature matrices\n",
    "                    X_train = featuriser(x_smiles[ind_train])\n",
    "                    X_test = featuriser(x_smiles[ind_test])\n",
    "                    \n",
    "                    # create rf model + train ml model + make predictions on test set\n",
    "                    rf_model = create_rf_model(settings_dict[\"rf_settings\"], settings_dict[\"task_type\"])\n",
    "                    rf_model.fit(X_train, y[ind_train])\n",
    "                    y_test_pred = make_rf_prediction(rf_model, X_test, settings_dict[\"task_type\"])\n",
    "\n",
    "                    # record rf scores\n",
    "                    print(m, k, \"rf\")\n",
    "                    if settings_dict[\"task_type\"] == \"regression\":\n",
    "                        scores_dict_rf[(m, k)] = regression_scores(y[ind_test], y_test_pred, display_results = False)\n",
    "                    elif settings_dict[\"task_type\"] == \"classification\":\n",
    "                        scores_dict_rf[(m, k)] = binary_classification_scores(y[ind_test], y_test_pred, display_results = False)\n",
    "                    \n",
    "                    # create mlp model + train ml model + make predictions on test set\n",
    "                    settings_dict[\"mlp_settings\"][\"architecture\"][0] = dimension\n",
    "                    mlp_model = create_mlp_model(settings_dict[\"mlp_settings\"])\n",
    "                    (loss_curve_train, loss_curve_test) = train_mlp_model(mlp_model, settings_dict[\"mlp_settings\"], X_train, y[ind_train], X_test, y[ind_test])\n",
    "                    y_test_pred = make_mlp_prediction(mlp_model, X_test)\n",
    "\n",
    "                    # record mlp scores\n",
    "                    print(m, k, \"mlp\")\n",
    "                    if settings_dict[\"task_type\"] == \"regression\":\n",
    "                        scores_dict_mlp[(m, k)] = regression_scores(y[ind_test], y_test_pred, display_results = False)\n",
    "                    elif settings_dict[\"task_type\"] == \"classification\":\n",
    "                        scores_dict_mlp[(m, k)] = binary_classification_scores(y[ind_test], y_test_pred, display_results = False) \n",
    "                    \n",
    "                # summarise, display and save scores for this experiment\n",
    "                settings_dict[\"ml_model\"] = \"rf\"\n",
    "                summarise_display_and_save_results_and_settings(scores_dict_rf, settings_dict, display_results = True)\n",
    "                settings_dict[\"ml_model\"] = \"mlp\"\n",
    "                summarise_display_and_save_results_and_settings(scores_dict_mlp, settings_dict, display_results = True)\n",
    "                print(\"\\n \\n \\n\")"
   ]
  },
  {
   "cell_type": "markdown",
   "id": "15a15e42-09ef-43f3-805d-e6d64f3d8d59",
   "metadata": {
    "jp-MarkdownHeadingCollapsed": true,
    "tags": []
   },
   "source": [
    "# Visualisation of Results"
   ]
  },
  {
   "cell_type": "markdown",
   "id": "7636b30b-5e5f-42fc-b24f-cd1c87390557",
   "metadata": {},
   "source": [
    "Dataset names:\n",
    "\n",
    "    \"ames_mutagenicity\",\n",
    "    \"aqsoldb_solubility\",\n",
    "    \"lit_pcba_esr_ant\",\n",
    "    \"moleculenet_lipophilicity\",\n",
    "    \"postera_sars_cov_2_mpro\".\n",
    "    \n",
    "Available classification metrics: \n",
    "\n",
    "    \"PRC-AUC\",\n",
    "    \"AUROC\", \n",
    "    \"Accuracy\", \n",
    "    \"Balanced Accuracy\", \n",
    "    \"F1-Score\", \n",
    "    \"MCC\", \n",
    "    \"Sensitivity\", \n",
    "    \"Specificity\", \n",
    "    \"Precision\", \n",
    "    \"Negative Predictive Value\", \n",
    "    \"Test Cases\", \n",
    "    \"Negative Test Cases\", \n",
    "    \"Positive Test Cases\".\n",
    "\n",
    "Available regression metrics:\n",
    "\n",
    "    \"MAE\", \n",
    "    \"MedAE\", \n",
    "    \"RMSE\", \n",
    "    \"MaxAE\", \n",
    "    \"MSE\", \n",
    "    \"PearsonCorr\", \n",
    "    \"R2Coeff\", \n",
    "    \"Test Cases\"."
   ]
  },
  {
   "cell_type": "code",
   "execution_count": 8,
   "id": "ee1e2544-dedf-4389-8eda-0a185e8dc5d1",
   "metadata": {},
   "outputs": [
    {
     "data": {
      "image/png": "[encoded data removed]",
      "text/plain": [
       "<Figure size 1152x756 with 4 Axes>"
      ]
     },
     "metadata": {
      "needs_background": "light"
     },
     "output_type": "display_data"
    }
   ],
   "source": [
    "visualise_bar_charts(dataset_name = \"moleculenet_lipophilicity\", # specify dataset name\n",
    "                     split_type = \"rand\", # specify split type \"rand\" or \"scaff\" (for random or scaffold split)\n",
    "                     metric = \"MAE\", # specify performance metric,\n",
    "                     y_lims = None, # specify limits of y-axis (set to \"None\" for automatic limits)\n",
    "                     y_unit = \" [logD]\") # specify unit for y-axis (if applicable)"
   ]
  },
  {
   "cell_type": "code",
   "execution_count": 10,
   "id": "a9a9fa7c-db6a-4db0-b608-0a3fe4001d20",
   "metadata": {},
   "outputs": [
    {
     "data": {
      "image/png": "[encoded data removed]",
      "text/plain": [
       "<Figure size 756x213.84 with 4 Axes>"
      ]
     },
     "metadata": {
      "needs_background": "light"
     },
     "output_type": "display_data"
    }
   ],
   "source": [
    "visualise_box_plots(dataset_name = \"moleculenet_lipophilicity\", # specify dataset name\n",
    "                    metric = \"MAE\", # specify performance metric\n",
    "                    y_unit = \" [logD]\", # specify unit for y-axis if applicable\n",
    "                    show_legend = False, # show legend or not\n",
    "                    show_x_ticks = True) # show text below subplots or not"
   ]
  },
  {
   "cell_type": "code",
   "execution_count": null,
   "id": "666f2cb9-f307-453e-a691-b323904e985b",
   "metadata": {},
   "outputs": [],
   "source": []
  }
 ],
 "metadata": {
  "kernelspec": {
   "display_name": "Python 3",
   "language": "python",
   "name": "python3"
  },
  "language_info": {
   "codemirror_mode": {
    "name": "ipython",
    "version": 3
   },
   "file_extension": ".py",
   "mimetype": "text/x-python",
   "name": "python",
   "nbconvert_exporter": "python",
   "pygments_lexer": "ipython3",
   "version": "3.7.12"
  }
 },
 "nbformat": 4,
 "nbformat_minor": 5
}
