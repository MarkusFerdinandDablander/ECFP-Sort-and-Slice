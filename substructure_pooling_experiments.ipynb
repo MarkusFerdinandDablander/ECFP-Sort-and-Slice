{
 "cells": [
  {
   "cell_type": "code",
   "execution_count": 1,
   "id": "e68644d1-829c-413b-8bbf-13b85c4037fc",
   "metadata": {},
   "outputs": [],
   "source": [
    "# check whether RF experiments can reproduce paper results\n",
    "# check whether figures are exactly reproduced\n",
    "# delete print statements from boxplot visualisations\n",
    "# check whether in atom_id_to_support_list[atom_id][k] = 1 if current_atom_id_to_count_dict[atom_id > 0 else 0 the second part is unnecessary, simplify for atom_id in current_atom_id_to_count.keys(): atom_id_to_support_list[atom_id][k] = 1 further\n",
    "\n",
    "\n",
    "# make optimised sort and slice feature extractor function (how break ties, how atom invariants, ...)\n",
    "# check whether optimised sort and slice feature extractor leads to similar results as in my experiments\n",
    "\n",
    "# design readme file and embedd figures\n",
    "# link to the paper in readme file\n",
    "# give instructions/code/functions on how to easily use sort and slice in other projects\n",
    "\n",
    "\n",
    "# ideas:\n",
    "# research project: extract features from target space to see if it improves out-of-distribution-generalisation\n",
    "# generate ecfps that are calibrated to entire chemical space (paper of all molecules)\n",
    "\n"
   ]
  },
  {
   "cell_type": "code",
   "execution_count": 1,
   "id": "77bc7620-ca75-4a53-8d21-9e7c8146ea10",
   "metadata": {},
   "outputs": [],
   "source": [
    "import numpy as np\n",
    "from rdkit.Chem import rdFingerprintGenerator\n",
    "\n",
    "import pandas as pd\n",
    "from rdkit import Chem"
   ]
  },
  {
   "cell_type": "code",
   "execution_count": 51,
   "id": "0b561d73-dcf3-41f5-854d-8c4d120a0fec",
   "metadata": {},
   "outputs": [],
   "source": [
    "def construct_sort_and_slice_ecfp_featuriser(mols_train, \n",
    "                                             max_radius = 2, \n",
    "                                             pharm_atom_invs = False, \n",
    "                                             bond_invs = True, \n",
    "                                             chirality = False, \n",
    "                                             sub_counts = False, \n",
    "                                             vec_dimension = 1024):\n",
    "    \"\"\"\n",
    "    Creates a function \"ecfp_featuriser\" that maps RDKit mol objects to vectorial ECFP fingerprints pooled via Sort & Slice (instead of traditional hash-based folding for substructure pooling).\n",
    "    See also \"Sort & Slice: A Simple and Superior Alternative to Hash-Based Folding for Extended-Connectivity Fingerprints\" by Dablander, Hanser, Lambiotte and Morris (2024): https://arxiv.org/abs/2403.17954.\n",
    "    \n",
    "    INPUTS:\n",
    "    \n",
    "    - mols_train (list)        ...    A list of RDKit mol objects [mol_1, mol_2, ...] that are used as the training set to calibrate the Sort & Slice substructure pooling operator.\n",
    "    - max_radius (int)         ...    The maximal radius up to which to generate the hashed integer ECFP-substructure identifiers. Common choices are 1, 2 or 3 (corresponding to diameters of 2, 4, or 6).\n",
    "    - pharm_atom_invs (bool)   ...    If False, then the standard initial atomic invariants from RDKit (including ring membership) are used to generate the ECFPs; if True, then instead binary pharmacophoric initial atomic invariants are used to generate FCFPs.\n",
    "    - bond_invs (bool)         ...    Whether or not to take into account bond invariants when generating the hashed integer ECFP-substructure identifiers (default = True).\n",
    "    - chirality (bool)         ...    Whether or not to take into account chirality when generating the hashed integer ECFP-substructure identifiers (default = False).\n",
    "    - sub_counts (bool)        ...    Whether ecfp_featuriser should generate binary vectorial fingerprints (sub_counts = False) that indicate the mere presence or absence of substructures, or integer fingerprints (sub_counts = True) that additionally indicate how many times a substructure is found in the input compound.\n",
    "    - vec_dimension (int)      ...    Length of the vectorial Sort & Slice ECFP. Common choices are 512, 1024, 2048 and 4096. Only the vec_dimension most prevalent ECFP-substructures in mols_train are included in the final vector representation.\n",
    "    \n",
    "    OUTPUT:\n",
    "    \n",
    "    - ecfp_featuriser (function)    ...    A function that maps RDKit mol objects to vectorial ECFP fingerprints via a Sort & Slice substructure pooling operator trained on mols_train.\n",
    "    \n",
    "    EXAMPLE:\n",
    "    \n",
    "    First construct a molecular featurisation function with desired settings, for instance via\n",
    "    \n",
    "    ecfp_featuriser = construct_sort_and_slice_ecfp_featuriser(mols_train = [mol_1, mol_2, ...], \n",
    "                                                               max_radius = 2, \n",
    "                                                               pharm_atom_invs = False, \n",
    "                                                               bond_invs = True, \n",
    "                                                               chirality = False, \n",
    "                                                               sub_counts = False, \n",
    "                                                               vec_dimension = 1024)\n",
    "                                                               \n",
    "    Note that the ECFP settings (max_radius, pharm_atom_invs, bond_invs, chirality, sub_counts, vec_dimension) and chemical information from mols_train are all by construction implicitly transferred to \"ecfp_featuriser\".\n",
    "    \n",
    "    Now let mol be an RDKit mol object. Then ecfp_featuriser(mol) is a 1-dimensional numpy array of length \"vec_dimension\" representing the vectorial Sort & Slice ECFP fingerprint for mol.\n",
    "    \n",
    "    The fingerprint ecfp_featuriser(mol) is generated by (i) first generating the (multi)set of hashed integer ECFP-substructure identifiers from mol and then (ii) vectorising it via the Sort & Slice operator trained on mols_train (rather than vectorising it via classical hash-based folding).\n",
    "    \"\"\"\n",
    "    \n",
    "    # create substructure enumerator function that maps a mol object to a dictionary whose keys are all the integer substructure identifiers identified in mol and whose values are the associated substructure counts in mol (i.e., how often each substructure appears in mol)\n",
    "    morgan_generator = rdFingerprintGenerator.GetMorganGenerator(radius = max_radius,\n",
    "                                                                 atomInvariantsGenerator = rdFingerprintGenerator.GetMorganFeatureAtomInvGen() if pharm_atom_invs == True else rdFingerprintGenerator.GetMorganAtomInvGen(includeRingMembership = True),\n",
    "                                                                 useBondTypes = bond_invs,\n",
    "                                                                 includeChirality = chirality)\n",
    "    \n",
    "    sub_id_enumerator = lambda mol: morgan_generator.GetSparseCountFingerprint(mol).GetNonzeroElements()\n",
    "    \n",
    "    # construct dictionary that maps each integer substructure identifier sub_id in mols_train to its associated prevalence (i.e., to the total number of compounds in mols_train that contain sub_id at least once)\n",
    "    sub_ids_to_prevs_dict = {}\n",
    "    for mol in mols_train:\n",
    "        for sub_id in sub_id_enumerator(mol).keys():\n",
    "            sub_ids_to_prevs_dict[sub_id] = sub_ids_to_prevs_dict.get(sub_id, 0) + 1\n",
    "\n",
    "    # create list of integer substructure identifiers sorted by prevalence in mols_train (ties are broken using the arbitrary ordering induced by the integer substructure identifiers themselves)\n",
    "    sub_ids_sorted_list = sorted(sub_ids_to_prevs_dict, key = lambda sub_id: (sub_ids_to_prevs_dict[sub_id], -sub_id), reverse = True)\n",
    "    \n",
    "    # create auxiliary function that generates standard unit vectors in numpy\n",
    "    def standard_unit_vector(dim, k):\n",
    "        \n",
    "        vec = np.zeros(dim, dtype = int)\n",
    "        vec[k] = 1\n",
    "        \n",
    "        return vec\n",
    "    \n",
    "    # create one-hot encoder for the first vec_dimension substructure identifiers in sub_ids_sorted_list; all other substructure identifiers are mapped to a vector of 0s\n",
    "    def sub_id_one_hot_encoder(sub_id):\n",
    "        \n",
    "        return standard_unit_vector(vec_dimension, sub_ids_sorted_list.index(sub_id)) if sub_id in sub_ids_sorted_list[0: vec_dimension] else np.zeros(vec_dimension)\n",
    "    \n",
    "    # create a function ecfp_featuriser that maps RDKit mol objects to vectorial ECFP fingerprints via a Sort & Slice substructure pooling operator trained on mols_train\n",
    "    def ecfp_featuriser(mol):\n",
    "\n",
    "        # create list of integer substructure identifiers contained in input mol object (multiplied by how often they appear in mol if sub_counts = True)\n",
    "        if sub_counts == True:\n",
    "            sub_id_list = [sub_id for (sub_id, count) in sub_id_enumerator(mol).items() for sub_id in [sub_id]*count]\n",
    "        else:\n",
    "            sub_id_list = list(sub_id_enumerator(mol).keys())\n",
    "        \n",
    "        # create molecule-wide vectorial representation by summing up one-hot encoded substructure idenfitiers\n",
    "        ecfp_vector = np.sum(np.array([sub_id_one_hot_encoder(sub_id) for sub_id in sub_id_list]), axis = 0)\n",
    "    \n",
    "        return ecfp_vector\n",
    "    \n",
    "    print(\"Number of compounds in molecular training data set = \", len(mols_train))\n",
    "    print(\"Number of unique circular substructures with specified parameters in molecular training data set = \", len(sub_ids_to_prevs_dict))\n",
    "\n",
    "    return ecfp_featuriser"
   ]
  },
  {
   "cell_type": "code",
   "execution_count": 83,
   "id": "fdc75bb8-af1e-4c98-a1e6-a8afc22032c9",
   "metadata": {},
   "outputs": [],
   "source": [
    "mols_train = [Chem.MolFromSmiles(smiles) for smiles in x_smiles]*1"
   ]
  },
  {
   "cell_type": "code",
   "execution_count": 89,
   "id": "8063acd7-bcb4-4df6-994b-5801ee97a50e",
   "metadata": {},
   "outputs": [
    {
     "name": "stdout",
     "output_type": "stream",
     "text": [
      "Number of compounds in molecular training data set =  4200\n",
      "Number of unique circular substructures with specified parameters in molecular training data set =  15871\n",
      "CPU times: user 245 ms, sys: 36 µs, total: 245 ms\n",
      "Wall time: 245 ms\n"
     ]
    }
   ],
   "source": [
    "%%time\n",
    "ecfp_featuriser = construct_sort_and_slice_ecfp_featuriser(mols_train, \n",
    "                                                           max_radius = 2, \n",
    "                                                           pharm_atom_invs = False, \n",
    "                                                           bond_invs = True, \n",
    "                                                           chirality = False, \n",
    "                                                           sub_counts = False, \n",
    "                                                           vec_dimension = 1024)"
   ]
  },
  {
   "cell_type": "code",
   "execution_count": 77,
   "id": "1c883406-64e1-4280-a791-1f183dcf85ff",
   "metadata": {},
   "outputs": [
    {
     "name": "stdout",
     "output_type": "stream",
     "text": [
      "(33600, 512)\n",
      "[[1. 1. 1. 0. 1. 1. 1. 0. 0. 1. 1. 0. 0. 1. 1.]\n",
      " [1. 1. 1. 1. 1. 1. 0. 1. 1. 1. 1. 1. 1. 1. 1.]\n",
      " [1. 1. 1. 1. 1. 0. 0. 1. 1. 1. 1. 0. 0. 1. 1.]\n",
      " [1. 1. 1. 1. 0. 1. 0. 1. 1. 1. 1. 1. 1. 1. 1.]\n",
      " [1. 1. 1. 1. 1. 1. 1. 1. 1. 1. 1. 1. 1. 0. 0.]\n",
      " [1. 1. 1. 0. 0. 0. 0. 0. 0. 1. 1. 0. 0. 1. 1.]\n",
      " [1. 1. 1. 1. 1. 1. 0. 1. 1. 1. 1. 1. 1. 1. 1.]\n",
      " [1. 1. 1. 1. 1. 1. 1. 1. 1. 0. 1. 1. 1. 0. 0.]\n",
      " [1. 1. 1. 1. 1. 0. 0. 0. 0. 0. 0. 1. 0. 0. 0.]\n",
      " [1. 1. 1. 0. 0. 0. 1. 0. 0. 0. 0. 0. 0. 0. 0.]\n",
      " [1. 1. 1. 1. 1. 0. 0. 0. 0. 1. 0. 0. 0. 1. 0.]\n",
      " [1. 1. 1. 0. 1. 0. 1. 0. 0. 0. 0. 1. 1. 0. 0.]\n",
      " [1. 0. 0. 1. 0. 0. 0. 0. 0. 0. 0. 0. 0. 1. 0.]\n",
      " [1. 1. 1. 1. 1. 1. 1. 1. 1. 1. 1. 0. 0. 1. 0.]\n",
      " [1. 1. 1. 1. 1. 0. 1. 1. 1. 1. 1. 0. 1. 1. 1.]]\n",
      "CPU times: user 8.68 s, sys: 80.1 ms, total: 8.76 s\n",
      "Wall time: 8.78 s\n"
     ]
    }
   ],
   "source": [
    "%%time\n",
    "X = np.array([ecfp_featuriser(mol) for mol in mols_train])\n",
    "\n",
    "print(X.shape)\n",
    "print(X[0:15,0:15])"
   ]
  },
  {
   "cell_type": "markdown",
   "id": "ff458476-9344-427b-8dcd-1182542f400a",
   "metadata": {
    "jp-MarkdownHeadingCollapsed": true,
    "tags": []
   },
   "source": [
    "# Import Packages"
   ]
  },
  {
   "cell_type": "code",
   "execution_count": 1,
   "id": "e65e1126-d038-4d9a-a124-18e53549d20a",
   "metadata": {},
   "outputs": [
    {
     "name": "stdout",
     "output_type": "stream",
     "text": [
      "Pytorch version =  1.10.2+cu113\n",
      "CUDA version =  11.3\n",
      "CUDA available =  False\n",
      "Random Pytorch test tensor =  tensor([0.8258])\n"
     ]
    }
   ],
   "source": [
    "# import general packages and set general options\n",
    "import numpy as np\n",
    "import pandas as pd\n",
    "import matplotlib.pyplot as plt\n",
    "from rdkit import Chem\n",
    "import warnings\n",
    "warnings.filterwarnings(\"ignore\")\n",
    "\n",
    "# import custom code written for this project\n",
    "from modules import *\n",
    "\n",
    "# import and check funtionality of pytorch\n",
    "import torch\n",
    "print(\"Pytorch version = \", torch.__version__)\n",
    "print(\"CUDA version = \", torch.version.cuda)\n",
    "print(\"CUDA available = \", torch.cuda.is_available())\n",
    "print(\"Random Pytorch test tensor = \", torch.rand(1))"
   ]
  },
  {
   "cell_type": "markdown",
   "id": "36423895-ee0e-4d85-98cd-46e9b815ea39",
   "metadata": {
    "id": "PqtoXSSPnJvy",
    "tags": []
   },
   "source": [
    "# Load and Prepare Data"
   ]
  },
  {
   "cell_type": "code",
   "execution_count": 2,
   "id": "dfce9979-a5b6-465c-825d-f7fe5ebdb319",
   "metadata": {},
   "outputs": [],
   "source": [
    "# initialise dictionary used to store experimental settings, after dictionary is initialised, choose one of the five data sets below to proceed\n",
    "\n",
    "settings_dict = {}"
   ]
  },
  {
   "cell_type": "code",
   "execution_count": 3,
   "id": "e3f943b6-2ba9-4241-87a9-302a368b8850",
   "metadata": {},
   "outputs": [],
   "source": [
    "# LIT-PCBA Estrogen Receptor Alpha Antagonism\n",
    "\n",
    "settings_dict[\"dataset_name\"] = \"lit_pcba_esr_ant\"\n",
    "settings_dict[\"task_type\"] = \"classification\"\n",
    "settings_dict[\"prop_name\"] = \"Activity\""
   ]
  },
  {
   "cell_type": "code",
   "execution_count": 3,
   "id": "0c5fe7fe-ca26-43eb-8fc2-98dd7234a76c",
   "metadata": {},
   "outputs": [],
   "source": [
    "# MoleculeNet Lipophilicity\n",
    "\n",
    "settings_dict[\"dataset_name\"] = \"moleculenet_lipophilicity\"\n",
    "settings_dict[\"task_type\"] = \"regression\"\n",
    "settings_dict[\"prop_name\"] = \"exp\""
   ]
  },
  {
   "cell_type": "code",
   "execution_count": 3,
   "id": "6542da60-e894-4009-a503-ae5459a8bf7b",
   "metadata": {},
   "outputs": [],
   "source": [
    "# AqSolDB solubility\n",
    "\n",
    "settings_dict[\"dataset_name\"] = \"aqsoldb_solubility\"\n",
    "settings_dict[\"task_type\"] = \"regression\"\n",
    "settings_dict[\"prop_name\"] = \"Solubility\""
   ]
  },
  {
   "cell_type": "code",
   "execution_count": 3,
   "id": "9797259e-fc95-401c-abee-6850995f0d70",
   "metadata": {},
   "outputs": [],
   "source": [
    "# PostEra SARS-CoV-2 Mpro inhibition\n",
    "\n",
    "settings_dict[\"dataset_name\"] = \"postera_sars_cov_2_mpro\"\n",
    "settings_dict[\"task_type\"] = \"regression\"\n",
    "settings_dict[\"prop_name\"] = \"f_avg_IC50\""
   ]
  },
  {
   "cell_type": "code",
   "execution_count": 3,
   "id": "533110dc-37a7-4619-8e24-01afae28b08a",
   "metadata": {},
   "outputs": [],
   "source": [
    "# Ames mutagenicity\n",
    "\n",
    "settings_dict[\"dataset_name\"] = \"ames_mutagenicity\"\n",
    "settings_dict[\"task_type\"] = \"classification\"\n",
    "settings_dict[\"prop_name\"] = \"Activity\""
   ]
  },
  {
   "cell_type": "code",
   "execution_count": 4,
   "id": "cc9109bb-1e35-4c14-8b74-ae38ee5eba3b",
   "metadata": {},
   "outputs": [
    {
     "data": {
      "text/html": [
       "<div>\n",
       "<style scoped>\n",
       "    .dataframe tbody tr th:only-of-type {\n",
       "        vertical-align: middle;\n",
       "    }\n",
       "\n",
       "    .dataframe tbody tr th {\n",
       "        vertical-align: top;\n",
       "    }\n",
       "\n",
       "    .dataframe thead th {\n",
       "        text-align: right;\n",
       "    }\n",
       "</style>\n",
       "<table border=\"1\" class=\"dataframe\">\n",
       "  <thead>\n",
       "    <tr style=\"text-align: right;\">\n",
       "      <th></th>\n",
       "      <th>SMILES</th>\n",
       "      <th>exp</th>\n",
       "    </tr>\n",
       "  </thead>\n",
       "  <tbody>\n",
       "    <tr>\n",
       "      <th>0</th>\n",
       "      <td>Cn1c(CN2CCN(c3ccc(Cl)cc3)CC2)nc2ccccc21</td>\n",
       "      <td>3.54</td>\n",
       "    </tr>\n",
       "    <tr>\n",
       "      <th>1</th>\n",
       "      <td>COc1cc(OC)c(S(=O)(=O)N2c3ccccc3CCC2C)cc1NC(=O)...</td>\n",
       "      <td>-1.18</td>\n",
       "    </tr>\n",
       "    <tr>\n",
       "      <th>2</th>\n",
       "      <td>COC(=O)[C@H](c1ccccc1Cl)N1CCc2c(ccs2)C1</td>\n",
       "      <td>3.69</td>\n",
       "    </tr>\n",
       "    <tr>\n",
       "      <th>3</th>\n",
       "      <td>O=C(NC1Cc2ccccc2N(C[C@@H](O)CO)C1=O)c1cc2c([nH...</td>\n",
       "      <td>3.37</td>\n",
       "    </tr>\n",
       "    <tr>\n",
       "      <th>4</th>\n",
       "      <td>Cc1cccc(C[C@H](NC(=O)c2cc(C(C)(C)C)nn2C)C(=O)N...</td>\n",
       "      <td>3.10</td>\n",
       "    </tr>\n",
       "    <tr>\n",
       "      <th>...</th>\n",
       "      <td>...</td>\n",
       "      <td>...</td>\n",
       "    </tr>\n",
       "    <tr>\n",
       "      <th>4195</th>\n",
       "      <td>O=C(Nc1ccc(CCO)cc1)c1cc2cc(Cl)ccc2[nH]1</td>\n",
       "      <td>3.85</td>\n",
       "    </tr>\n",
       "    <tr>\n",
       "      <th>4196</th>\n",
       "      <td>CCN(C(=O)Cc1ccc(S(C)(=O)=O)cc1)C1CCN(CCC(c2ccc...</td>\n",
       "      <td>3.21</td>\n",
       "    </tr>\n",
       "    <tr>\n",
       "      <th>4197</th>\n",
       "      <td>COc1cccc2c1cn[nH]2</td>\n",
       "      <td>2.10</td>\n",
       "    </tr>\n",
       "    <tr>\n",
       "      <th>4198</th>\n",
       "      <td>O=C(NCC1CCCCC1)c1c2cccnc2ccc1Cl</td>\n",
       "      <td>2.65</td>\n",
       "    </tr>\n",
       "    <tr>\n",
       "      <th>4199</th>\n",
       "      <td>Cn1c(N)nc(CCc2ccc3ccccc3c2)cc1=O</td>\n",
       "      <td>2.70</td>\n",
       "    </tr>\n",
       "  </tbody>\n",
       "</table>\n",
       "<p>4200 rows × 2 columns</p>\n",
       "</div>"
      ],
      "text/plain": [
       "                                                 SMILES   exp\n",
       "0               Cn1c(CN2CCN(c3ccc(Cl)cc3)CC2)nc2ccccc21  3.54\n",
       "1     COc1cc(OC)c(S(=O)(=O)N2c3ccccc3CCC2C)cc1NC(=O)... -1.18\n",
       "2               COC(=O)[C@H](c1ccccc1Cl)N1CCc2c(ccs2)C1  3.69\n",
       "3     O=C(NC1Cc2ccccc2N(C[C@@H](O)CO)C1=O)c1cc2c([nH...  3.37\n",
       "4     Cc1cccc(C[C@H](NC(=O)c2cc(C(C)(C)C)nn2C)C(=O)N...  3.10\n",
       "...                                                 ...   ...\n",
       "4195            O=C(Nc1ccc(CCO)cc1)c1cc2cc(Cl)ccc2[nH]1  3.85\n",
       "4196  CCN(C(=O)Cc1ccc(S(C)(=O)=O)cc1)C1CCN(CCC(c2ccc...  3.21\n",
       "4197                                 COc1cccc2c1cn[nH]2  2.10\n",
       "4198                    O=C(NCC1CCCCC1)c1c2cccnc2ccc1Cl  2.65\n",
       "4199                   Cn1c(N)nc(CCc2ccc3ccccc3c2)cc1=O  2.70\n",
       "\n",
       "[4200 rows x 2 columns]"
      ]
     },
     "metadata": {},
     "output_type": "display_data"
    }
   ],
   "source": [
    "# load clean data\n",
    "\n",
    "dataframe = pd.read_csv(\"data/\" + settings_dict[\"dataset_name\"] + \"/\" + \"clean_data.csv\", sep = \",\")\n",
    "display(dataframe)"
   ]
  },
  {
   "cell_type": "code",
   "execution_count": 5,
   "id": "b5a6b019-29ab-469d-89b7-f791ac1d538a",
   "metadata": {
    "colab": {
     "base_uri": "https://localhost:8080/",
     "height": 90
    },
    "id": "ZGTsCwA9nJwK",
    "outputId": "d9c43474-c7b7-4622-da65-6ebe36c9c3a1"
   },
   "outputs": [
    {
     "name": "stdout",
     "output_type": "stream",
     "text": [
      "Mean Value (Target) =  2.1863357142857143\n",
      "Standard Deviation (Target) =  1.2028604901336188\n",
      "Maximum Value (Target) =  4.5\n",
      "Minimum Value (Target) =  -1.5 \n",
      "\n",
      "Shape of y =  (4200,)\n",
      "\n",
      " y =  [ 3.54 -1.18  3.69 ...  2.1   2.65  2.7 ]\n"
     ]
    },
    {
     "ename": "NameError",
     "evalue": "name 'plt' is not defined",
     "output_type": "error",
     "traceback": [
      "\u001b[0;31m---------------------------------------------------------------------------\u001b[0m",
      "\u001b[0;31mNameError\u001b[0m                                 Traceback (most recent call last)",
      "\u001b[0;32m<ipython-input-5-64b801db951e>\u001b[0m in \u001b[0;36m<module>\u001b[0;34m\u001b[0m\n\u001b[1;32m     14\u001b[0m \u001b[0mprint\u001b[0m\u001b[0;34m(\u001b[0m\u001b[0;34m\"\\n y = \"\u001b[0m\u001b[0;34m,\u001b[0m \u001b[0my\u001b[0m\u001b[0;34m)\u001b[0m\u001b[0;34m\u001b[0m\u001b[0;34m\u001b[0m\u001b[0m\n\u001b[1;32m     15\u001b[0m \u001b[0;34m\u001b[0m\u001b[0m\n\u001b[0;32m---> 16\u001b[0;31m \u001b[0mplt\u001b[0m\u001b[0;34m.\u001b[0m\u001b[0mhist\u001b[0m\u001b[0;34m(\u001b[0m\u001b[0my\u001b[0m\u001b[0;34m)\u001b[0m\u001b[0;34m\u001b[0m\u001b[0;34m\u001b[0m\u001b[0m\n\u001b[0m",
      "\u001b[0;31mNameError\u001b[0m: name 'plt' is not defined"
     ]
    }
   ],
   "source": [
    "# construct target variable y (for the SARS-CoV-2 main protease data set, we convert Ki to pKi by taking negative decadic logarithm)\n",
    "\n",
    "if settings_dict[\"dataset_name\"] == \"postera_sars_cov_2_mpro\":\n",
    "    y = -np.log10(dataframe.loc[:, settings_dict[\"prop_name\"]].values.astype(float))\n",
    "else:\n",
    "    y = dataframe.loc[:, settings_dict[\"prop_name\"]].values.astype(float)\n",
    "\n",
    "print(\"Mean Value (Target) = \", np.mean(y))\n",
    "print(\"Standard Deviation (Target) = \", np.std(y))\n",
    "print(\"Maximum Value (Target) = \", np.amax(y))\n",
    "print(\"Minimum Value (Target) = \", np.amin(y), \"\\n\")\n",
    "\n",
    "print(\"Shape of y = \", y.shape)\n",
    "print(\"\\n y = \", y)\n",
    "\n",
    "plt.hist(y)"
   ]
  },
  {
   "cell_type": "code",
   "execution_count": 6,
   "id": "38c868ea-ee13-4031-aba2-88b15b14f565",
   "metadata": {
    "colab": {
     "base_uri": "https://localhost:8080/",
     "height": 222
    },
    "id": "CmgbVIXOnJwL",
    "outputId": "f151bbf0-8894-45c1-bd95-e747bc7c74b5"
   },
   "outputs": [
    {
     "name": "stdout",
     "output_type": "stream",
     "text": [
      "Shape of x_smiles =  (4200,)\n",
      "Cn1c(CN2CCN(c3ccc(Cl)cc3)CC2)nc2ccccc21\n"
     ]
    },
    {
     "data": {
      "image/png": "[encoded data removed]",
      "text/plain": [
       "<rdkit.Chem.rdchem.Mol at 0x7fe0e6fbeda0>"
      ]
     },
     "metadata": {},
     "output_type": "display_data"
    }
   ],
   "source": [
    "# extract SMILES strings\n",
    "\n",
    "x_smiles = np.reshape(dataframe[\"SMILES\"].values, (len(dataframe), 1))[:,0]\n",
    "\n",
    "print(\"Shape of x_smiles = \", x_smiles.shape)\n",
    "print(x_smiles[0])\n",
    "display(Chem.MolFromSmiles(x_smiles[0]))"
   ]
  },
  {
   "cell_type": "code",
   "execution_count": 7,
   "id": "554e9792-2bea-4a5a-9f92-8fdbf592e0cb",
   "metadata": {
    "id": "iMep582hnJwL"
   },
   "outputs": [],
   "source": [
    "# create dictionary that maps smiles strings to their target values\n",
    "\n",
    "x_smiles_to_y_dict = dict(list(zip(x_smiles, y)))"
   ]
  },
  {
   "cell_type": "markdown",
   "id": "92d0e354-615a-4838-a6c3-c8a3796af3ee",
   "metadata": {
    "jp-MarkdownHeadingCollapsed": true,
    "tags": []
   },
   "source": [
    "# Prepare Data Split"
   ]
  },
  {
   "cell_type": "code",
   "execution_count": 8,
   "id": "31183d3e-550c-49a0-84b9-d776d32de758",
   "metadata": {},
   "outputs": [],
   "source": [
    "# choose settings for dictionary that contains indices for data splits\n",
    "\n",
    "settings_dict[\"split_type\"] = \"rand\" # choose \"rand\" for random split and \"scaff\" for scaffold split\n",
    "settings_dict[\"split_type_rand_stratified\"] = False # given a random split and a classification problem, choose whether to stratify the split\n",
    "settings_dict[\"k_splits\"] = 2 # choose number of cross validation folds k_splits\n",
    "settings_dict[\"m_reps\"] = 3 # choose number of random seeds m_reps with which the cross validation scheme is repeated\n",
    "settings_dict[\"random_state_cv\"] = 42 # choose random state"
   ]
  },
  {
   "cell_type": "code",
   "execution_count": 10,
   "id": "13b0bc84-39ca-46ea-8495-b88e4871c810",
   "metadata": {},
   "outputs": [],
   "source": [
    "# construct dictionary that contains indices for data splits\n",
    "\n",
    "if settings_dict[\"split_type\"] == \"rand\" and settings_dict[\"split_type_rand_stratified\"] == False:\n",
    "    \n",
    "    data_split_dict = create_data_split_dict_random(x_smiles = x_smiles,\n",
    "                                                    k_splits = settings_dict[\"k_splits\"],\n",
    "                                                    m_reps = settings_dict[\"m_reps\"],\n",
    "                                                    random_state_cv = settings_dict[\"random_state_cv\"])\n",
    "\n",
    "elif settings_dict[\"split_type\"] == \"rand\" and settings_dict[\"split_type_rand_stratified\"] == True:\n",
    "    \n",
    "    data_split_dict = create_data_split_dict_random_strat(x_smiles = x_smiles,\n",
    "                                                          y = y,\n",
    "                                                          k_splits = settings_dict[\"k_splits\"],\n",
    "                                                          m_reps = settings_dict[\"m_reps\"],\n",
    "                                                          random_state_cv = settings_dict[\"random_state_cv\"])\n",
    "    \n",
    "elif settings_dict[\"split_type\"] == \"scaff\":\n",
    "    \n",
    "    data_split_dict = create_data_split_dict_scaffold(x_smiles = x_smiles,\n",
    "                                                      k_splits = settings_dict[\"k_splits\"],\n",
    "                                                      m_reps = settings_dict[\"m_reps\"],\n",
    "                                                      scaffold_func = \"Bemis_Murcko_generic\",\n",
    "                                                      random_state_cv = settings_dict[\"random_state_cv\"])"
   ]
  },
  {
   "cell_type": "markdown",
   "id": "4c806ab6-dc16-437e-bb44-ba8e77ac7bda",
   "metadata": {
    "jp-MarkdownHeadingCollapsed": true,
    "tags": []
   },
   "source": [
    "# Evaluate Models"
   ]
  },
  {
   "cell_type": "code",
   "execution_count": 11,
   "id": "a87960bf-0f58-4e5f-a050-2afd26dec983",
   "metadata": {},
   "outputs": [],
   "source": [
    "# choose ECFP hyperparameters\n",
    "\n",
    "settings_dict[\"ecfp_settings\"] = {\"mol_to_invs_function\": ecfp_invariants, # ecfp_invariants or fcfp_invariants\n",
    "                                  \"radius\": 3, # 0 or 1 or 2 or 3 ...\n",
    "                                  \"pool_method\": \"filtered\", # \"hashed\" or \"sort_and_slice\" or \"filtered\" or \"mim\"\n",
    "                                  \"dimension\": 512, # 256 or 512 or 1024 or 2048 or 4096 ...\n",
    "                                  \"use_bond_invs\": True, # True or False\n",
    "                                  \"use_chirality\": True, # True or False\n",
    "                                  \"use_counts\": False} # True or False"
   ]
  },
  {
   "cell_type": "code",
   "execution_count": 12,
   "id": "c3854158-59a0-428b-8eda-cc440dd10c7f",
   "metadata": {},
   "outputs": [],
   "source": [
    "# chose ml model: random forest or multilayer perceptron\n",
    "\n",
    "settings_dict[\"ml_model\"] = \"rf\" # \"rf\" or \"mlp\""
   ]
  },
  {
   "cell_type": "code",
   "execution_count": 13,
   "id": "fde71877-345b-4b60-8636-09aa1abb39cb",
   "metadata": {},
   "outputs": [],
   "source": [
    "# choose rf hyperparameters\n",
    "\n",
    "settings_dict[\"rf_settings\"] = {\"n_estimators\" : 100,\n",
    "                                \"max_depth\" : None,\n",
    "                                \"min_samples_leaf\" : 1,\n",
    "                                \"min_samples_split\" : 2,\n",
    "                                \"bootstrap\" : True,\n",
    "                                \"max_features\": \"sqrt\",\n",
    "                                \"random_state\" : 42}\n",
    "\n",
    "if settings_dict[\"task_type\"] == \"regression\":\n",
    "\n",
    "    settings_dict[\"rf_settings\"][\"criterion\"] = \"squared_error\"\n",
    "\n",
    "elif settings_dict[\"task_type\"] == \"classification\":\n",
    "\n",
    "    settings_dict[\"rf_settings\"][\"criterion\"] = \"gini\""
   ]
  },
  {
   "cell_type": "code",
   "execution_count": 14,
   "id": "40d6cc7d-9467-4f20-b996-fdc0703583ae",
   "metadata": {},
   "outputs": [],
   "source": [
    "# choose mlp hyperparameters\n",
    "\n",
    "settings_dict[\"mlp_settings\"] = {\"architecture\" : list(arch(settings_dict[\"ecfp_settings\"][\"dimension\"], 1, 512, 5)),\n",
    "                                \"hidden_activation\" : nn.ReLU(),\n",
    "                                \"use_bias\" : True,\n",
    "                                \"hidden_dropout_rate\" : 0.25,\n",
    "                                \"hidden_batchnorm\" : True,\n",
    "                                \"batch_size\" : 64,\n",
    "                                \"dataloader_shuffle\" : True,\n",
    "                                \"dataloader_drop_last\" : True,\n",
    "                                \"learning_rate\" : 1e-3,\n",
    "                                \"lr_lambda\" : lambda epoch: max(0.98**epoch, 1e-2),\n",
    "                                \"lr_last_epoch\": 0,\n",
    "                                \"weight_decay\" : 0.1,\n",
    "                                \"num_epochs\" : 0,\n",
    "                                \"optimiser\" : torch.optim.AdamW,\n",
    "                                \"print_results_per_epochs\" : None}\n",
    "\n",
    "if settings_dict[\"task_type\"] == \"regression\":\n",
    "\n",
    "    settings_dict[\"mlp_settings\"][\"output_activation\"] = nn.Identity()\n",
    "    settings_dict[\"mlp_settings\"][\"loss_function\"] = nn.MSELoss()\n",
    "    settings_dict[\"mlp_settings\"][\"performance_metrics\"] = \"regression\"\n",
    "\n",
    "elif settings_dict[\"task_type\"] == \"classification\":\n",
    "\n",
    "    settings_dict[\"mlp_settings\"][\"output_activation\"] = nn.Sigmoid()\n",
    "    settings_dict[\"mlp_settings\"][\"loss_function\"] = nn.BCELoss()\n",
    "    settings_dict[\"mlp_settings\"][\"performance_metrics\"] = \"classification\""
   ]
  },
  {
   "cell_type": "code",
   "execution_count": 15,
   "id": "4357dc9f-f91f-4cc2-8b9d-d73d3fdb36fd",
   "metadata": {},
   "outputs": [
    {
     "name": "stdout",
     "output_type": "stream",
     "text": [
      "Number of unique circular substructures with specified parameters in molecular training data set =  12930\n",
      "0 0\n"
     ]
    },
    {
     "data": {
      "text/html": [
       "<div>\n",
       "<style scoped>\n",
       "    .dataframe tbody tr th:only-of-type {\n",
       "        vertical-align: middle;\n",
       "    }\n",
       "\n",
       "    .dataframe tbody tr th {\n",
       "        vertical-align: top;\n",
       "    }\n",
       "\n",
       "    .dataframe thead th {\n",
       "        text-align: right;\n",
       "    }\n",
       "</style>\n",
       "<table border=\"1\" class=\"dataframe\">\n",
       "  <thead>\n",
       "    <tr style=\"text-align: right;\">\n",
       "      <th></th>\n",
       "      <th>MAE</th>\n",
       "      <th>MedAE</th>\n",
       "      <th>RMSE</th>\n",
       "      <th>MaxAE</th>\n",
       "      <th>MSE</th>\n",
       "      <th>PearsonCorr</th>\n",
       "      <th>R2Coeff</th>\n",
       "      <th>Test Cases</th>\n",
       "    </tr>\n",
       "  </thead>\n",
       "  <tbody>\n",
       "    <tr>\n",
       "      <th>Scores:</th>\n",
       "      <td>0.466946</td>\n",
       "      <td>0.329693</td>\n",
       "      <td>0.634466</td>\n",
       "      <td>2.335452</td>\n",
       "      <td>0.402547</td>\n",
       "      <td>0.793937</td>\n",
       "      <td>0.630141</td>\n",
       "      <td>962.0</td>\n",
       "    </tr>\n",
       "  </tbody>\n",
       "</table>\n",
       "</div>"
      ],
      "text/plain": [
       "              MAE     MedAE      RMSE     MaxAE       MSE  PearsonCorr  \\\n",
       "Scores:  0.466946  0.329693  0.634466  2.335452  0.402547     0.793937   \n",
       "\n",
       "          R2Coeff  Test Cases  \n",
       "Scores:  0.630141       962.0  "
      ]
     },
     "metadata": {},
     "output_type": "display_data"
    },
    {
     "name": "stdout",
     "output_type": "stream",
     "text": [
      "Number of unique circular substructures with specified parameters in molecular training data set =  12955\n",
      "0 1\n"
     ]
    },
    {
     "data": {
      "text/html": [
       "<div>\n",
       "<style scoped>\n",
       "    .dataframe tbody tr th:only-of-type {\n",
       "        vertical-align: middle;\n",
       "    }\n",
       "\n",
       "    .dataframe tbody tr th {\n",
       "        vertical-align: top;\n",
       "    }\n",
       "\n",
       "    .dataframe thead th {\n",
       "        text-align: right;\n",
       "    }\n",
       "</style>\n",
       "<table border=\"1\" class=\"dataframe\">\n",
       "  <thead>\n",
       "    <tr style=\"text-align: right;\">\n",
       "      <th></th>\n",
       "      <th>MAE</th>\n",
       "      <th>MedAE</th>\n",
       "      <th>RMSE</th>\n",
       "      <th>MaxAE</th>\n",
       "      <th>MSE</th>\n",
       "      <th>PearsonCorr</th>\n",
       "      <th>R2Coeff</th>\n",
       "      <th>Test Cases</th>\n",
       "    </tr>\n",
       "  </thead>\n",
       "  <tbody>\n",
       "    <tr>\n",
       "      <th>Scores:</th>\n",
       "      <td>0.45468</td>\n",
       "      <td>0.303246</td>\n",
       "      <td>0.662613</td>\n",
       "      <td>3.995515</td>\n",
       "      <td>0.439056</td>\n",
       "      <td>0.774496</td>\n",
       "      <td>0.598259</td>\n",
       "      <td>962.0</td>\n",
       "    </tr>\n",
       "  </tbody>\n",
       "</table>\n",
       "</div>"
      ],
      "text/plain": [
       "             MAE     MedAE      RMSE     MaxAE       MSE  PearsonCorr  \\\n",
       "Scores:  0.45468  0.303246  0.662613  3.995515  0.439056     0.774496   \n",
       "\n",
       "          R2Coeff  Test Cases  \n",
       "Scores:  0.598259       962.0  "
      ]
     },
     "metadata": {},
     "output_type": "display_data"
    },
    {
     "name": "stdout",
     "output_type": "stream",
     "text": [
      "Number of unique circular substructures with specified parameters in molecular training data set =  12751\n",
      "1 0\n"
     ]
    },
    {
     "data": {
      "text/html": [
       "<div>\n",
       "<style scoped>\n",
       "    .dataframe tbody tr th:only-of-type {\n",
       "        vertical-align: middle;\n",
       "    }\n",
       "\n",
       "    .dataframe tbody tr th {\n",
       "        vertical-align: top;\n",
       "    }\n",
       "\n",
       "    .dataframe thead th {\n",
       "        text-align: right;\n",
       "    }\n",
       "</style>\n",
       "<table border=\"1\" class=\"dataframe\">\n",
       "  <thead>\n",
       "    <tr style=\"text-align: right;\">\n",
       "      <th></th>\n",
       "      <th>MAE</th>\n",
       "      <th>MedAE</th>\n",
       "      <th>RMSE</th>\n",
       "      <th>MaxAE</th>\n",
       "      <th>MSE</th>\n",
       "      <th>PearsonCorr</th>\n",
       "      <th>R2Coeff</th>\n",
       "      <th>Test Cases</th>\n",
       "    </tr>\n",
       "  </thead>\n",
       "  <tbody>\n",
       "    <tr>\n",
       "      <th>Scores:</th>\n",
       "      <td>0.475331</td>\n",
       "      <td>0.328218</td>\n",
       "      <td>0.675553</td>\n",
       "      <td>3.149796</td>\n",
       "      <td>0.456372</td>\n",
       "      <td>0.756665</td>\n",
       "      <td>0.571632</td>\n",
       "      <td>962.0</td>\n",
       "    </tr>\n",
       "  </tbody>\n",
       "</table>\n",
       "</div>"
      ],
      "text/plain": [
       "              MAE     MedAE      RMSE     MaxAE       MSE  PearsonCorr  \\\n",
       "Scores:  0.475331  0.328218  0.675553  3.149796  0.456372     0.756665   \n",
       "\n",
       "          R2Coeff  Test Cases  \n",
       "Scores:  0.571632       962.0  "
      ]
     },
     "metadata": {},
     "output_type": "display_data"
    },
    {
     "name": "stdout",
     "output_type": "stream",
     "text": [
      "Number of unique circular substructures with specified parameters in molecular training data set =  13195\n",
      "1 1\n"
     ]
    },
    {
     "data": {
      "text/html": [
       "<div>\n",
       "<style scoped>\n",
       "    .dataframe tbody tr th:only-of-type {\n",
       "        vertical-align: middle;\n",
       "    }\n",
       "\n",
       "    .dataframe tbody tr th {\n",
       "        vertical-align: top;\n",
       "    }\n",
       "\n",
       "    .dataframe thead th {\n",
       "        text-align: right;\n",
       "    }\n",
       "</style>\n",
       "<table border=\"1\" class=\"dataframe\">\n",
       "  <thead>\n",
       "    <tr style=\"text-align: right;\">\n",
       "      <th></th>\n",
       "      <th>MAE</th>\n",
       "      <th>MedAE</th>\n",
       "      <th>RMSE</th>\n",
       "      <th>MaxAE</th>\n",
       "      <th>MSE</th>\n",
       "      <th>PearsonCorr</th>\n",
       "      <th>R2Coeff</th>\n",
       "      <th>Test Cases</th>\n",
       "    </tr>\n",
       "  </thead>\n",
       "  <tbody>\n",
       "    <tr>\n",
       "      <th>Scores:</th>\n",
       "      <td>0.478709</td>\n",
       "      <td>0.33357</td>\n",
       "      <td>0.670148</td>\n",
       "      <td>3.672475</td>\n",
       "      <td>0.449098</td>\n",
       "      <td>0.773471</td>\n",
       "      <td>0.596949</td>\n",
       "      <td>962.0</td>\n",
       "    </tr>\n",
       "  </tbody>\n",
       "</table>\n",
       "</div>"
      ],
      "text/plain": [
       "              MAE    MedAE      RMSE     MaxAE       MSE  PearsonCorr  \\\n",
       "Scores:  0.478709  0.33357  0.670148  3.672475  0.449098     0.773471   \n",
       "\n",
       "          R2Coeff  Test Cases  \n",
       "Scores:  0.596949       962.0  "
      ]
     },
     "metadata": {},
     "output_type": "display_data"
    },
    {
     "name": "stdout",
     "output_type": "stream",
     "text": [
      "Number of unique circular substructures with specified parameters in molecular training data set =  13028\n",
      "2 0\n"
     ]
    },
    {
     "data": {
      "text/html": [
       "<div>\n",
       "<style scoped>\n",
       "    .dataframe tbody tr th:only-of-type {\n",
       "        vertical-align: middle;\n",
       "    }\n",
       "\n",
       "    .dataframe tbody tr th {\n",
       "        vertical-align: top;\n",
       "    }\n",
       "\n",
       "    .dataframe thead th {\n",
       "        text-align: right;\n",
       "    }\n",
       "</style>\n",
       "<table border=\"1\" class=\"dataframe\">\n",
       "  <thead>\n",
       "    <tr style=\"text-align: right;\">\n",
       "      <th></th>\n",
       "      <th>MAE</th>\n",
       "      <th>MedAE</th>\n",
       "      <th>RMSE</th>\n",
       "      <th>MaxAE</th>\n",
       "      <th>MSE</th>\n",
       "      <th>PearsonCorr</th>\n",
       "      <th>R2Coeff</th>\n",
       "      <th>Test Cases</th>\n",
       "    </tr>\n",
       "  </thead>\n",
       "  <tbody>\n",
       "    <tr>\n",
       "      <th>Scores:</th>\n",
       "      <td>0.451652</td>\n",
       "      <td>0.304947</td>\n",
       "      <td>0.631808</td>\n",
       "      <td>2.601031</td>\n",
       "      <td>0.399181</td>\n",
       "      <td>0.795562</td>\n",
       "      <td>0.630601</td>\n",
       "      <td>962.0</td>\n",
       "    </tr>\n",
       "  </tbody>\n",
       "</table>\n",
       "</div>"
      ],
      "text/plain": [
       "              MAE     MedAE      RMSE     MaxAE       MSE  PearsonCorr  \\\n",
       "Scores:  0.451652  0.304947  0.631808  2.601031  0.399181     0.795562   \n",
       "\n",
       "          R2Coeff  Test Cases  \n",
       "Scores:  0.630601       962.0  "
      ]
     },
     "metadata": {},
     "output_type": "display_data"
    },
    {
     "name": "stdout",
     "output_type": "stream",
     "text": [
      "Number of unique circular substructures with specified parameters in molecular training data set =  12806\n",
      "2 1\n"
     ]
    },
    {
     "data": {
      "text/html": [
       "<div>\n",
       "<style scoped>\n",
       "    .dataframe tbody tr th:only-of-type {\n",
       "        vertical-align: middle;\n",
       "    }\n",
       "\n",
       "    .dataframe tbody tr th {\n",
       "        vertical-align: top;\n",
       "    }\n",
       "\n",
       "    .dataframe thead th {\n",
       "        text-align: right;\n",
       "    }\n",
       "</style>\n",
       "<table border=\"1\" class=\"dataframe\">\n",
       "  <thead>\n",
       "    <tr style=\"text-align: right;\">\n",
       "      <th></th>\n",
       "      <th>MAE</th>\n",
       "      <th>MedAE</th>\n",
       "      <th>RMSE</th>\n",
       "      <th>MaxAE</th>\n",
       "      <th>MSE</th>\n",
       "      <th>PearsonCorr</th>\n",
       "      <th>R2Coeff</th>\n",
       "      <th>Test Cases</th>\n",
       "    </tr>\n",
       "  </thead>\n",
       "  <tbody>\n",
       "    <tr>\n",
       "      <th>Scores:</th>\n",
       "      <td>0.468921</td>\n",
       "      <td>0.332077</td>\n",
       "      <td>0.667427</td>\n",
       "      <td>4.382251</td>\n",
       "      <td>0.445458</td>\n",
       "      <td>0.77253</td>\n",
       "      <td>0.595276</td>\n",
       "      <td>962.0</td>\n",
       "    </tr>\n",
       "  </tbody>\n",
       "</table>\n",
       "</div>"
      ],
      "text/plain": [
       "              MAE     MedAE      RMSE     MaxAE       MSE  PearsonCorr  \\\n",
       "Scores:  0.468921  0.332077  0.667427  4.382251  0.445458      0.77253   \n",
       "\n",
       "          R2Coeff  Test Cases  \n",
       "Scores:  0.595276       962.0  "
      ]
     },
     "metadata": {},
     "output_type": "display_data"
    },
    {
     "data": {
      "text/html": [
       "<div>\n",
       "<style scoped>\n",
       "    .dataframe tbody tr th:only-of-type {\n",
       "        vertical-align: middle;\n",
       "    }\n",
       "\n",
       "    .dataframe tbody tr th {\n",
       "        vertical-align: top;\n",
       "    }\n",
       "\n",
       "    .dataframe thead th {\n",
       "        text-align: right;\n",
       "    }\n",
       "</style>\n",
       "<table border=\"1\" class=\"dataframe\">\n",
       "  <thead>\n",
       "    <tr style=\"text-align: right;\">\n",
       "      <th></th>\n",
       "      <th>MAE</th>\n",
       "      <th>MedAE</th>\n",
       "      <th>RMSE</th>\n",
       "      <th>MaxAE</th>\n",
       "      <th>MSE</th>\n",
       "      <th>PearsonCorr</th>\n",
       "      <th>R2Coeff</th>\n",
       "      <th>Test Cases</th>\n",
       "    </tr>\n",
       "  </thead>\n",
       "  <tbody>\n",
       "    <tr>\n",
       "      <th>(0, 0)</th>\n",
       "      <td>0.466946</td>\n",
       "      <td>0.329693</td>\n",
       "      <td>0.634466</td>\n",
       "      <td>2.335452</td>\n",
       "      <td>0.402547</td>\n",
       "      <td>0.793937</td>\n",
       "      <td>0.630141</td>\n",
       "      <td>962.0</td>\n",
       "    </tr>\n",
       "    <tr>\n",
       "      <th>(0, 1)</th>\n",
       "      <td>0.454680</td>\n",
       "      <td>0.303246</td>\n",
       "      <td>0.662613</td>\n",
       "      <td>3.995515</td>\n",
       "      <td>0.439056</td>\n",
       "      <td>0.774496</td>\n",
       "      <td>0.598259</td>\n",
       "      <td>962.0</td>\n",
       "    </tr>\n",
       "    <tr>\n",
       "      <th>(1, 0)</th>\n",
       "      <td>0.475331</td>\n",
       "      <td>0.328218</td>\n",
       "      <td>0.675553</td>\n",
       "      <td>3.149796</td>\n",
       "      <td>0.456372</td>\n",
       "      <td>0.756665</td>\n",
       "      <td>0.571632</td>\n",
       "      <td>962.0</td>\n",
       "    </tr>\n",
       "    <tr>\n",
       "      <th>(1, 1)</th>\n",
       "      <td>0.478709</td>\n",
       "      <td>0.333570</td>\n",
       "      <td>0.670148</td>\n",
       "      <td>3.672475</td>\n",
       "      <td>0.449098</td>\n",
       "      <td>0.773471</td>\n",
       "      <td>0.596949</td>\n",
       "      <td>962.0</td>\n",
       "    </tr>\n",
       "    <tr>\n",
       "      <th>(2, 0)</th>\n",
       "      <td>0.451652</td>\n",
       "      <td>0.304947</td>\n",
       "      <td>0.631808</td>\n",
       "      <td>2.601031</td>\n",
       "      <td>0.399181</td>\n",
       "      <td>0.795562</td>\n",
       "      <td>0.630601</td>\n",
       "      <td>962.0</td>\n",
       "    </tr>\n",
       "    <tr>\n",
       "      <th>(2, 1)</th>\n",
       "      <td>0.468921</td>\n",
       "      <td>0.332077</td>\n",
       "      <td>0.667427</td>\n",
       "      <td>4.382251</td>\n",
       "      <td>0.445458</td>\n",
       "      <td>0.772530</td>\n",
       "      <td>0.595276</td>\n",
       "      <td>962.0</td>\n",
       "    </tr>\n",
       "    <tr>\n",
       "      <th>mean</th>\n",
       "      <td>0.466040</td>\n",
       "      <td>0.321959</td>\n",
       "      <td>0.657002</td>\n",
       "      <td>3.356087</td>\n",
       "      <td>0.431952</td>\n",
       "      <td>0.777777</td>\n",
       "      <td>0.603809</td>\n",
       "      <td>962.0</td>\n",
       "    </tr>\n",
       "    <tr>\n",
       "      <th>std</th>\n",
       "      <td>0.009933</td>\n",
       "      <td>0.012753</td>\n",
       "      <td>0.017319</td>\n",
       "      <td>0.732159</td>\n",
       "      <td>0.022590</td>\n",
       "      <td>0.013417</td>\n",
       "      <td>0.020806</td>\n",
       "      <td>0.0</td>\n",
       "    </tr>\n",
       "  </tbody>\n",
       "</table>\n",
       "</div>"
      ],
      "text/plain": [
       "             MAE     MedAE      RMSE     MaxAE       MSE  PearsonCorr  \\\n",
       "(0, 0)  0.466946  0.329693  0.634466  2.335452  0.402547     0.793937   \n",
       "(0, 1)  0.454680  0.303246  0.662613  3.995515  0.439056     0.774496   \n",
       "(1, 0)  0.475331  0.328218  0.675553  3.149796  0.456372     0.756665   \n",
       "(1, 1)  0.478709  0.333570  0.670148  3.672475  0.449098     0.773471   \n",
       "(2, 0)  0.451652  0.304947  0.631808  2.601031  0.399181     0.795562   \n",
       "(2, 1)  0.468921  0.332077  0.667427  4.382251  0.445458     0.772530   \n",
       "mean    0.466040  0.321959  0.657002  3.356087  0.431952     0.777777   \n",
       "std     0.009933  0.012753  0.017319  0.732159  0.022590     0.013417   \n",
       "\n",
       "         R2Coeff  Test Cases  \n",
       "(0, 0)  0.630141       962.0  \n",
       "(0, 1)  0.598259       962.0  \n",
       "(1, 0)  0.571632       962.0  \n",
       "(1, 1)  0.596949       962.0  \n",
       "(2, 0)  0.630601       962.0  \n",
       "(2, 1)  0.595276       962.0  \n",
       "mean    0.603809       962.0  \n",
       "std     0.020806         0.0  "
      ]
     },
     "metadata": {},
     "output_type": "display_data"
    },
    {
     "name": "stdout",
     "output_type": "stream",
     "text": [
      "CPU times: user 1min 45s, sys: 186 ms, total: 1min 45s\n",
      "Wall time: 1min 45s\n"
     ]
    }
   ],
   "source": [
    "%%time\n",
    "# run model and save results\n",
    "\n",
    "# dictionary to save results over the k_splits-fold cross validation with m_reps random seeds\n",
    "scores_dict = {}\n",
    "\n",
    "# ind_train and ind_test contain the indices for the data split corresponding to the k-th fold with the m-th random seed\n",
    "for ((m, k), (ind_train, ind_test)) in data_split_dict.items():\n",
    "    \n",
    "    # create ecfp featuriser\n",
    "    featuriser = create_ecfp_featuriser(ecfp_settings = settings_dict[\"ecfp_settings\"], \n",
    "                                        x_smiles_train = x_smiles[ind_train], \n",
    "                                        y_train = y[ind_train], \n",
    "                                        discretise_y = True if settings_dict[\"task_type\"] == \"regression\" else False,\n",
    "                                        base = 2, \n",
    "                                        random_state = 42)\n",
    "    \n",
    "    # create ecfp-based feature matrices\n",
    "    X_train = featuriser(x_smiles[ind_train])\n",
    "    X_test = featuriser(x_smiles[ind_test])\n",
    "\n",
    "    # create ml model + train ml model + make predictions on test set\n",
    "    if settings_dict[\"ml_model\"] == \"rf\":\n",
    "        \n",
    "        rf_model = create_rf_model(settings_dict[\"rf_settings\"], settings_dict[\"task_type\"])\n",
    "        rf_model.fit(X_train, y[ind_train])\n",
    "        y_test_pred = make_rf_prediction(rf_model, X_test, settings_dict[\"task_type\"])\n",
    "        \n",
    "    if settings_dict[\"ml_model\"] == \"mlp\":\n",
    "        \n",
    "        mlp_model = create_mlp_model(settings_dict[\"mlp_settings\"])\n",
    "        (loss_curve_train, loss_curve_test) = train_mlp_model(mlp_model, settings_dict[\"mlp_settings\"], X_train, y[ind_train], X_test, y[ind_test])\n",
    "        plt.plot(loss_curve_train)\n",
    "        plt.plot(loss_curve_test)\n",
    "        y_test_pred = make_mlp_prediction(mlp_model, X_test)\n",
    "        \n",
    "    # record scores\n",
    "    print(m, k)\n",
    "    if settings_dict[\"task_type\"] == \"regression\":\n",
    "        scores_dict[(m, k)] = regression_scores(y[ind_test], y_test_pred, display_results = True)\n",
    "    elif settings_dict[\"task_type\"] == \"classification\":\n",
    "        scores_dict[(m, k)] = binary_classification_scores(y[ind_test], y_test_pred, display_results = True)\n",
    "        \n",
    "# summarise, display and save scores for this experiment\n",
    "summarise_display_and_save_results_and_settings(scores_dict, settings_dict, display_results = True)"
   ]
  },
  {
   "cell_type": "code",
   "execution_count": 21,
   "id": "0bf2e7a1-6896-46f5-81a7-caf9008846f8",
   "metadata": {},
   "outputs": [
    {
     "ename": "NameError",
     "evalue": "name 'a' is not defined",
     "output_type": "error",
     "traceback": [
      "\u001b[0;31m---------------------------------------------------------------------------\u001b[0m",
      "\u001b[0;31mNameError\u001b[0m                                 Traceback (most recent call last)",
      "\u001b[0;32m<timed exec>\u001b[0m in \u001b[0;36m<module>\u001b[0;34m\u001b[0m\n",
      "\u001b[0;31mNameError\u001b[0m: name 'a' is not defined"
     ]
    }
   ],
   "source": [
    "%%time\n",
    "# run full battery of experiments for one data set and data splitting type with both rfs and mlps\n",
    "\n",
    "# first clear folder from previous experimental results\n",
    "delete_all_files_in_folder(\"results/\" + settings_dict[\"dataset_name\"] + \"/\" + settings_dict[\"split_type\"] + \"/\")\n",
    "\n",
    "for pool_method in [\"hashed\", \"filtered\", \"mim\", \"sort_and_slice\"]:\n",
    "    for dimension in [512, 1024, 2048, 4096]:\n",
    "        for inv_func in [ecfp_invariants, fcfp_invariants]:\n",
    "            for radius in [1, 2, 3]:\n",
    "\n",
    "                print(\"pool_method = \", pool_method)\n",
    "                print(\"dimension = \", dimension)\n",
    "                print(\"inv_func = \", inv_func)\n",
    "                print(\"radius = \", radius, \"\\n\")\n",
    "\n",
    "                # choose ECFP hyperparameters\n",
    "                settings_dict[\"ecfp_settings\"] = {\"mol_to_invs_function\": inv_func,\n",
    "                                                  \"radius\": radius,\n",
    "                                                  \"pool_method\": pool_method,\n",
    "                                                  \"dimension\": dimension,\n",
    "                                                  \"use_bond_invs\": True,\n",
    "                                                  \"use_chirality\": True,\n",
    "                                                  \"use_counts\": False}\n",
    "\n",
    "                # run rf- and mlp models and save results\n",
    "                scores_dict_rf = {}\n",
    "                scores_dict_mlp = {}\n",
    "\n",
    "                # ind_train and ind_test contain the indices for the data split corresponding to the k-th fold with the m-th random seed\n",
    "                for ((m, k), (ind_train, ind_test)) in data_split_dict.items():\n",
    "                    \n",
    "                    # create ecfp featuriser\n",
    "                    featuriser = create_ecfp_featuriser(ecfp_settings = settings_dict[\"ecfp_settings\"], \n",
    "                                                        x_smiles_train = x_smiles[ind_train], \n",
    "                                                        y_train = y[ind_train], \n",
    "                                                        discretise_y = True if settings_dict[\"task_type\"] == \"regression\" else False,  \n",
    "                                                        base = 2, \n",
    "                                                        random_state = 42)\n",
    "\n",
    "                    # create ecfp-based feature matrices\n",
    "                    X_train = featuriser(x_smiles[ind_train])\n",
    "                    X_test = featuriser(x_smiles[ind_test])\n",
    "                    \n",
    "                    # create rf model + train ml model + make predictions on test set\n",
    "                    rf_model = create_rf_model(settings_dict[\"rf_settings\"], settings_dict[\"task_type\"])\n",
    "                    rf_model.fit(X_train, y[ind_train])\n",
    "                    y_test_pred = make_rf_prediction(rf_model, X_test, settings_dict[\"task_type\"])\n",
    "\n",
    "                    # record rf scores\n",
    "                    print(m, k, \"rf\")\n",
    "                    if settings_dict[\"task_type\"] == \"regression\":\n",
    "                        scores_dict_rf[(m, k)] = regression_scores(y[ind_test], y_test_pred, display_results = False)\n",
    "                    elif settings_dict[\"task_type\"] == \"classification\":\n",
    "                        scores_dict_rf[(m, k)] = binary_classification_scores(y[ind_test], y_test_pred, display_results = False)\n",
    "                    \n",
    "                    # create mlp model + train ml model + make predictions on test set\n",
    "                    settings_dict[\"mlp_settings\"][\"architecture\"][0] = dimension\n",
    "                    mlp_model = create_mlp_model(settings_dict[\"mlp_settings\"])\n",
    "                    (loss_curve_train, loss_curve_test) = train_mlp_model(mlp_model, settings_dict[\"mlp_settings\"], X_train, y[ind_train], X_test, y[ind_test])\n",
    "                    y_test_pred = make_mlp_prediction(mlp_model, X_test)\n",
    "\n",
    "                    # record mlp scores\n",
    "                    print(m, k, \"mlp\")\n",
    "                    if settings_dict[\"task_type\"] == \"regression\":\n",
    "                        scores_dict_mlp[(m, k)] = regression_scores(y[ind_test], y_test_pred, display_results = False)\n",
    "                    elif settings_dict[\"task_type\"] == \"classification\":\n",
    "                        scores_dict_mlp[(m, k)] = binary_classification_scores(y[ind_test], y_test_pred, display_results = False) \n",
    "                    \n",
    "                # summarise, display and save scores for this experiment\n",
    "                settings_dict[\"ml_model\"] = \"rf\"\n",
    "                summarise_display_and_save_results_and_settings(scores_dict_rf, settings_dict, display_results = True)\n",
    "                settings_dict[\"ml_model\"] = \"mlp\"\n",
    "                summarise_display_and_save_results_and_settings(scores_dict_mlp, settings_dict, display_results = True)\n",
    "                print(\"\\n \\n \\n\")"
   ]
  },
  {
   "cell_type": "markdown",
   "id": "15a15e42-09ef-43f3-805d-e6d64f3d8d59",
   "metadata": {
    "jp-MarkdownHeadingCollapsed": true,
    "tags": []
   },
   "source": [
    "# Results Visualisation"
   ]
  },
  {
   "cell_type": "markdown",
   "id": "7636b30b-5e5f-42fc-b24f-cd1c87390557",
   "metadata": {},
   "source": [
    "Dataset names:\n",
    "\n",
    "    \"ames_mutagenicity\",\n",
    "    \"aqsoldb_solubility\",\n",
    "    \"lit_pcba_esr_ant\",\n",
    "    \"moleculenet_lipophilicity\",\n",
    "    \"postera_sars_cov_2_mpro\".\n",
    "    \n",
    "Available classification metrics: \n",
    "\n",
    "    \"PRC-AUC\",\n",
    "    \"AUROC\", \n",
    "    \"Accuracy\", \n",
    "    \"Balanced Accuracy\", \n",
    "    \"F1-Score\", \n",
    "    \"MCC\", \n",
    "    \"Sensitivity\", \n",
    "    \"Specificity\", \n",
    "    \"Precision\", \n",
    "    \"Negative Predictive Value\", \n",
    "    \"Test Cases\", \n",
    "    \"Negative Test Cases\", \n",
    "    \"Positive Test Cases\".\n",
    "\n",
    "Available regression metrics:\n",
    "\n",
    "    \"MAE\", \n",
    "    \"MedAE\", \n",
    "    \"RMSE\", \n",
    "    \"MaxAE\", \n",
    "    \"MSE\", \n",
    "    \"PearsonCorr\", \n",
    "    \"R2Coeff\", \n",
    "    \"Test Cases\"."
   ]
  },
  {
   "cell_type": "code",
   "execution_count": 17,
   "id": "ee1e2544-dedf-4389-8eda-0a185e8dc5d1",
   "metadata": {},
   "outputs": [
    {
     "data": {
      "image/png": "[encoded data removed]",
      "text/plain": [
       "<Figure size 1152x756 with 4 Axes>"
      ]
     },
     "metadata": {
      "needs_background": "light"
     },
     "output_type": "display_data"
    }
   ],
   "source": [
    "visualise_bar_charts(dataset_name = \"lit_pcba_esr_ant\", # specify dataset name\n",
    "                     split_type = \"scaff\", # specify split type \"rand\" or \"scaff\" (for random or scaffold split)\n",
    "                     metric = \"PRC-AUC\", # specify performance metric,\n",
    "                     y_lims = (0.04, 0.22), # specify limits of y-axis\n",
    "                     y_unit = \"\") # specify unit for y-axis (if applicable)"
   ]
  },
  {
   "cell_type": "code",
   "execution_count": 2,
   "id": "5df85acc-ed8c-4f59-9d90-1360eb72bb81",
   "metadata": {},
   "outputs": [
    {
     "name": "stdout",
     "output_type": "stream",
     "text": [
      "[0.6943113  0.67138541 0.67619072 0.66443731]\n",
      "[0.02756505 0.00958823 0.0105218  0.0079305 ] \n",
      "\n",
      "[2.28492741 2.28420768 2.28301158 2.28527163]\n",
      "[0.01031733 0.00935966 0.00923131 0.00953502] \n",
      "\n",
      "[0.78911411 0.76414295 0.76716133 0.75921402]\n",
      "[0.03025863 0.01025566 0.01113869 0.00998105] \n",
      "\n",
      "[2.28390647 2.28231618 2.28540368 2.28267008]\n",
      "[0.01009871 0.00908055 0.011557   0.00912546] \n",
      "\n"
     ]
    },
    {
     "data": {
      "image/png": "[encoded data removed]",
      "text/plain": [
       "<Figure size 756x213.84 with 4 Axes>"
      ]
     },
     "metadata": {
      "needs_background": "light"
     },
     "output_type": "display_data"
    }
   ],
   "source": [
    "visualise_box_plots(dataset_name = \"moleculenet_lipophilicity\", # specify dataset name\n",
    "                    metric = \"MAE\", # specify performance metric\n",
    "                    y_unit = \"\", # specify unit for y-axis if applicable\n",
    "                    show_legend = False, # show legend or not\n",
    "                    show_x_ticks = True) # show text below subplots or not"
   ]
  },
  {
   "cell_type": "code",
   "execution_count": 8,
   "id": "a3e4fdc1-4ae4-4448-be07-0758dba42ab8",
   "metadata": {},
   "outputs": [
    {
     "name": "stdout",
     "output_type": "stream",
     "text": [
      "[0.6943113  0.67127701 0.67619072 0.66443731]\n",
      "[0.02756505 0.00957752 0.0105218  0.0079305 ] \n",
      "\n",
      "[0.62236537 0.61955433 0.63387084 0.58571558]\n",
      "[0.0307138  0.04259825 0.04632885 0.01755706] \n",
      "\n",
      "[0.78911411 0.76399427 0.76716133 0.75921402]\n",
      "[0.03025863 0.01033125 0.01113869 0.00998105] \n",
      "\n",
      "[0.72976848 0.7176687  0.73152845 0.68644593]\n",
      "[0.03540535 0.04543928 0.04920788 0.0162422 ] \n",
      "\n"
     ]
    },
    {
     "data": {
      "image/png": "[encoded data removed]",
      "text/plain": [
       "<Figure size 756x213.84 with 4 Axes>"
      ]
     },
     "metadata": {
      "needs_background": "light"
     },
     "output_type": "display_data"
    }
   ],
   "source": [
    "visualise_box_plots(dataset_name = \"moleculenet_lipophilicity\", # specify dataset name\n",
    "                    metric = \"MAE\", # specify performance metric\n",
    "                    y_unit = \"\", # specify unit for y-axis if applicable\n",
    "                    show_legend = False, # show legend or not\n",
    "                    show_x_ticks = True) # show text below subplots or not"
   ]
  },
  {
   "cell_type": "code",
   "execution_count": null,
   "id": "2aca0f01-b0e8-411e-a802-ce0e166e6dbf",
   "metadata": {},
   "outputs": [],
   "source": []
  },
  {
   "cell_type": "code",
   "execution_count": 4,
   "id": "652f0a8e-44cd-4e1e-b883-9f6a97fb1d54",
   "metadata": {},
   "outputs": [
    {
     "name": "stdout",
     "output_type": "stream",
     "text": [
      "[1.0542911  1.0359621  1.04762288 1.01703795]\n",
      "[0.04154548 0.03820795 0.03718237 0.04269807] \n",
      "\n",
      "[3.09127353 3.08464279 3.09184814 3.09044687]\n",
      "[0.011262   0.01008861 0.00948151 0.00986685] \n",
      "\n",
      "[1.46324735 1.44543404 1.44714147 1.44234641]\n",
      "[0.04337977 0.03924765 0.03702334 0.03458364] \n",
      "\n",
      "[3.08154613 3.08297812 3.08318354 3.0841692 ]\n",
      "[0.00825683 0.0133107  0.01139718 0.00949274] \n",
      "\n"
     ]
    },
    {
     "data": {
      "image/png": "[encoded data removed]",
      "text/plain": [
       "<Figure size 756x213.84 with 4 Axes>"
      ]
     },
     "metadata": {
      "needs_background": "light"
     },
     "output_type": "display_data"
    }
   ],
   "source": [
    "visualise_box_plots(dataset_name = \"aqsoldb_solubility\", # specify dataset name\n",
    "                    metric = \"MAE\", # specify performance metric\n",
    "                    y_unit = \"\", # specify unit for y-axis if applicable\n",
    "                    show_legend = False, # show legend or not\n",
    "                    show_x_ticks = True) # show text below subplots or not"
   ]
  },
  {
   "cell_type": "code",
   "execution_count": 9,
   "id": "7e755efa-09d6-486f-8ab6-65b030f61169",
   "metadata": {},
   "outputs": [
    {
     "name": "stdout",
     "output_type": "stream",
     "text": [
      "[1.0542911  1.03592195 1.04762288 1.01703795]\n",
      "[0.04154548 0.03825885 0.03718237 0.04269807] \n",
      "\n",
      "[0.98090504 0.98281228 1.00501333 0.94282763]\n",
      "[0.05068442 0.05689927 0.05312542 0.067684  ] \n",
      "\n",
      "[1.46324735 1.44582904 1.44714147 1.44234641]\n",
      "[0.04337977 0.03872475 0.03702334 0.03458364] \n",
      "\n",
      "[1.38777709 1.38319326 1.39633325 1.34827167]\n",
      "[0.02074076 0.0314707  0.03301436 0.02925209] \n",
      "\n"
     ]
    },
    {
     "data": {
      "image/png": "[encoded data removed]",
      "text/plain": [
       "<Figure size 756x213.84 with 4 Axes>"
      ]
     },
     "metadata": {
      "needs_background": "light"
     },
     "output_type": "display_data"
    }
   ],
   "source": [
    "visualise_box_plots(dataset_name = \"aqsoldb_solubility\", # specify dataset name\n",
    "                    metric = \"MAE\", # specify performance metric\n",
    "                    y_unit = \"\", # specify unit for y-axis if applicable\n",
    "                    show_legend = False, # show legend or not\n",
    "                    show_x_ticks = True) # show text below subplots or not"
   ]
  },
  {
   "cell_type": "code",
   "execution_count": null,
   "id": "72cc3b74-8948-4c2e-b1eb-f627de26edc7",
   "metadata": {},
   "outputs": [],
   "source": []
  },
  {
   "cell_type": "code",
   "execution_count": 5,
   "id": "a9a9fa7c-db6a-4db0-b608-0a3fe4001d20",
   "metadata": {},
   "outputs": [
    {
     "name": "stdout",
     "output_type": "stream",
     "text": [
      "[0.46759588 0.46043889 0.46374356 0.45558306]\n",
      "[0.0205431  0.02422072 0.02222179 0.02524791] \n",
      "\n",
      "[1.28787225 1.28943992 1.28946633 1.29278985]\n",
      "[0.01467138 0.01309295 0.01024693 0.01278309] \n",
      "\n",
      "[0.52135321 0.51094241 0.51389563 0.5066434 ]\n",
      "[0.02426253 0.02841335 0.02707582 0.03036748] \n",
      "\n",
      "[1.28922607 1.29137714 1.28960691 1.28754673]\n",
      "[0.01444766 0.01004995 0.01358591 0.01289478] \n",
      "\n"
     ]
    },
    {
     "data": {
      "image/png": "[encoded data removed]",
      "text/plain": [
       "<Figure size 756x213.84 with 4 Axes>"
      ]
     },
     "metadata": {
      "needs_background": "light"
     },
     "output_type": "display_data"
    }
   ],
   "source": [
    "visualise_box_plots(dataset_name = \"postera_sars_cov_2_mpro\", # specify dataset name\n",
    "                    metric = \"MAE\", # specify performance metric\n",
    "                    y_unit = \"\", # specify unit for y-axis if applicable\n",
    "                    show_legend = False, # show legend or not\n",
    "                    show_x_ticks = True) # show text below subplots or not"
   ]
  },
  {
   "cell_type": "code",
   "execution_count": 10,
   "id": "f5bdf5e0-c0df-4730-865e-27c87546ff05",
   "metadata": {},
   "outputs": [
    {
     "name": "stdout",
     "output_type": "stream",
     "text": [
      "[0.46759588 0.46059158 0.46374356 0.45558306]\n",
      "[0.0205431  0.02415372 0.02222179 0.02524791] \n",
      "\n",
      "[0.43073557 0.43585638 0.44046317 0.42870323]\n",
      "[0.02085253 0.02257317 0.02215993 0.02259018] \n",
      "\n",
      "[0.52135321 0.51086323 0.51389563 0.5066434 ]\n",
      "[0.02426253 0.02840367 0.02707582 0.03036748] \n",
      "\n",
      "[0.49342022 0.49293101 0.49856208 0.48536597]\n",
      "[0.02301459 0.02497402 0.02359813 0.02638728] \n",
      "\n"
     ]
    },
    {
     "data": {
      "image/png": "[encoded data removed]",
      "text/plain": [
       "<Figure size 756x213.84 with 4 Axes>"
      ]
     },
     "metadata": {
      "needs_background": "light"
     },
     "output_type": "display_data"
    }
   ],
   "source": [
    "visualise_box_plots(dataset_name = \"postera_sars_cov_2_mpro\", # specify dataset name\n",
    "                    metric = \"MAE\", # specify performance metric\n",
    "                    y_unit = \"\", # specify unit for y-axis if applicable\n",
    "                    show_legend = False, # show legend or not\n",
    "                    show_x_ticks = True) # show text below subplots or not"
   ]
  },
  {
   "cell_type": "code",
   "execution_count": null,
   "id": "614114b8-9947-4e58-85ce-7b924f22732d",
   "metadata": {},
   "outputs": [],
   "source": []
  },
  {
   "cell_type": "code",
   "execution_count": 6,
   "id": "1352d259-c20f-48bb-a697-8a61a1f6bfb7",
   "metadata": {},
   "outputs": [
    {
     "name": "stdout",
     "output_type": "stream",
     "text": [
      "[0.85825828 0.85807262 0.8546457  0.86165991]\n",
      "[0.00745945 0.00772895 0.00795403 0.00761454] \n",
      "\n",
      "[0.49979945 0.49978703 0.49727559 0.50006485]\n",
      "[0.00500848 0.0077669  0.00807868 0.00734304] \n",
      "\n",
      "[0.79770075 0.80293991 0.80087869 0.80637585]\n",
      "[0.0094547  0.00840415 0.00888922 0.00794913] \n",
      "\n",
      "[0.50033877 0.50133772 0.50073496 0.49982184]\n",
      "[0.0059993  0.00671266 0.00801644 0.00713919] \n",
      "\n"
     ]
    },
    {
     "data": {
      "image/png": "[encoded data removed]",
      "text/plain": [
       "<Figure size 756x213.84 with 4 Axes>"
      ]
     },
     "metadata": {
      "needs_background": "light"
     },
     "output_type": "display_data"
    }
   ],
   "source": [
    "visualise_box_plots(dataset_name = \"ames_mutagenicity\", # specify dataset name\n",
    "                    metric = \"AUROC\", # specify performance metric\n",
    "                    y_unit = \"\", # specify unit for y-axis if applicable\n",
    "                    show_legend = False, # show legend or not\n",
    "                    show_x_ticks = True) # show text below subplots or not"
   ]
  },
  {
   "cell_type": "code",
   "execution_count": 11,
   "id": "e230ffbe-3b63-4760-ae5a-a9192bc17703",
   "metadata": {},
   "outputs": [
    {
     "name": "stdout",
     "output_type": "stream",
     "text": [
      "[0.85825828 0.85808862 0.8546457  0.86165991]\n",
      "[0.00745945 0.00774661 0.00795403 0.00761454] \n",
      "\n",
      "[0.83524983 0.83025964 0.82574286 0.83645157]\n",
      "[0.00778474 0.00790497 0.00822153 0.00825732] \n",
      "\n",
      "[0.79770075 0.80295294 0.80087869 0.80637585]\n",
      "[0.0094547  0.00842114 0.00888922 0.00794913] \n",
      "\n",
      "[0.77606099 0.77528969 0.77147962 0.78415447]\n",
      "[0.01020726 0.00936401 0.01015735 0.0101085 ] \n",
      "\n"
     ]
    },
    {
     "data": {
      "image/png": "[encoded data removed]",
      "text/plain": [
       "<Figure size 756x213.84 with 4 Axes>"
      ]
     },
     "metadata": {
      "needs_background": "light"
     },
     "output_type": "display_data"
    }
   ],
   "source": [
    "visualise_box_plots(dataset_name = \"ames_mutagenicity\", # specify dataset name\n",
    "                    metric = \"AUROC\", # specify performance metric\n",
    "                    y_unit = \"\", # specify unit for y-axis if applicable\n",
    "                    show_legend = False, # show legend or not\n",
    "                    show_x_ticks = True) # show text below subplots or not"
   ]
  },
  {
   "cell_type": "code",
   "execution_count": null,
   "id": "6166c448-1051-4b58-b12d-4b2206c7b090",
   "metadata": {},
   "outputs": [],
   "source": []
  },
  {
   "cell_type": "code",
   "execution_count": 7,
   "id": "82439eda-9405-4b38-9687-44cf9830c14e",
   "metadata": {},
   "outputs": [
    {
     "name": "stdout",
     "output_type": "stream",
     "text": [
      "[0.16213318 0.16880731 0.15891891 0.17237188]\n",
      "[0.01788898 0.01525961 0.01780919 0.01422271] \n",
      "\n",
      "[0.02937391 0.03127104 0.0323402  0.0276578 ]\n",
      "[0.00226066 0.00635131 0.00677974 0.00404944] \n",
      "\n",
      "[0.08423569 0.08602265 0.08317475 0.08674594]\n",
      "[0.00871132 0.00563402 0.00933342 0.00968227] \n",
      "\n",
      "[0.0304809  0.03047675 0.02949303 0.02986514]\n",
      "[0.00427665 0.00506341 0.00493331 0.00358534] \n",
      "\n"
     ]
    },
    {
     "data": {
      "image/png": "[encoded data removed]",
      "text/plain": [
       "<Figure size 756x213.84 with 4 Axes>"
      ]
     },
     "metadata": {
      "needs_background": "light"
     },
     "output_type": "display_data"
    }
   ],
   "source": [
    "visualise_box_plots(dataset_name = \"lit_pcba_esr_ant\", # specify dataset name\n",
    "                    metric = \"PRC-AUC\", # specify performance metric\n",
    "                    y_unit = \"\", # specify unit for y-axis if applicable\n",
    "                    show_legend = False, # show legend or not\n",
    "                    show_x_ticks = True) # show text below subplots or not"
   ]
  },
  {
   "cell_type": "code",
   "execution_count": 12,
   "id": "95dc464a-9970-40b4-87d4-3103bf5735bf",
   "metadata": {},
   "outputs": [
    {
     "name": "stdout",
     "output_type": "stream",
     "text": [
      "[0.16213318 0.16825282 0.15891891 0.17237188]\n",
      "[0.01788898 0.01509173 0.01780919 0.01422271] \n",
      "\n",
      "[0.1262524  0.13054084 0.12201661 0.13828093]\n",
      "[0.01212836 0.0120168  0.01313937 0.01455258] \n",
      "\n",
      "[0.08423569 0.0858784  0.08317475 0.08674594]\n",
      "[0.00871132 0.00578098 0.00933342 0.00968227] \n",
      "\n",
      "[0.05868495 0.05990317 0.05691309 0.06029368]\n",
      "[0.00900185 0.00720015 0.00966824 0.00884483] \n",
      "\n"
     ]
    },
    {
     "data": {
      "image/png": "[encoded data removed]",
      "text/plain": [
       "<Figure size 756x213.84 with 4 Axes>"
      ]
     },
     "metadata": {
      "needs_background": "light"
     },
     "output_type": "display_data"
    }
   ],
   "source": [
    "visualise_box_plots(dataset_name = \"lit_pcba_esr_ant\", # specify dataset name\n",
    "                    metric = \"PRC-AUC\", # specify performance metric\n",
    "                    y_unit = \"\", # specify unit for y-axis if applicable\n",
    "                    show_legend = False, # show legend or not\n",
    "                    show_x_ticks = True) # show text below subplots or not"
   ]
  }
 ],
 "metadata": {
  "kernelspec": {
   "display_name": "Python 3",
   "language": "python",
   "name": "python3"
  },
  "language_info": {
   "codemirror_mode": {
    "name": "ipython",
    "version": 3
   },
   "file_extension": ".py",
   "mimetype": "text/x-python",
   "name": "python",
   "nbconvert_exporter": "python",
   "pygments_lexer": "ipython3",
   "version": "3.7.12"
  }
 },
 "nbformat": 4,
 "nbformat_minor": 5
}
